{
  "nbformat": 4,
  "nbformat_minor": 0,
  "metadata": {
    "colab": {
      "name": "Half-Marathon Training Exploratory Data Analysis (EDA)",
      "provenance": [],
      "collapsed_sections": []
    },
    "kernelspec": {
      "name": "python3",
      "display_name": "Python 3"
    },
    "language_info": {
      "name": "python"
    }
  },
  "cells": [
    {
      "cell_type": "markdown",
      "source": [
        "# **Introduction**"
      ],
      "metadata": {
        "id": "nWyeXbS4yXHj"
      }
    },
    {
      "cell_type": "markdown",
      "source": [
        ""
      ],
      "metadata": {
        "id": "TbbDMHxmyZ9Y"
      }
    },
    {
      "cell_type": "markdown",
      "source": [
        "## Importing used libraries"
      ],
      "metadata": {
        "id": "ihgtrisVyMiT"
      }
    },
    {
      "cell_type": "code",
      "execution_count": null,
      "metadata": {
        "id": "4IN2Z-KXE06H"
      },
      "outputs": [],
      "source": [
        "import pandas as pd\n",
        "import numpy as np\n",
        "import matplotlib.pyplot as plt\n",
        "import seaborn as sns\n",
        "%matplotlib inline"
      ]
    },
    {
      "cell_type": "markdown",
      "source": [
        "## **Dataset**"
      ],
      "metadata": {
        "id": "XTBpGfxYybsU"
      }
    },
    {
      "cell_type": "markdown",
      "source": [
        "Garmin Connect"
      ],
      "metadata": {
        "id": "Mrp5iRfo0Eom"
      }
    },
    {
      "cell_type": "markdown",
      "source": [
        "## Import Dataset"
      ],
      "metadata": {
        "id": "pwQ7oWvcyga2"
      }
    },
    {
      "cell_type": "code",
      "source": [
        "filepath = \"/content/drive/MyDrive/Activities.csv\""
      ],
      "metadata": {
        "id": "DKRMFuQO3-PN"
      },
      "execution_count": null,
      "outputs": []
    },
    {
      "cell_type": "code",
      "source": [
        "basis = pd.read_csv(filepath)"
      ],
      "metadata": {
        "id": "ei4ghEcQ4HMU"
      },
      "execution_count": null,
      "outputs": []
    },
    {
      "cell_type": "code",
      "source": [
        "basis.head()"
      ],
      "metadata": {
        "colab": {
          "base_uri": "https://localhost:8080/",
          "height": 418
        },
        "id": "qfTqs1oyGlOQ",
        "outputId": "35cf2410-ebe6-4e98-a845-bf9a0f969614"
      },
      "execution_count": null,
      "outputs": [
        {
          "output_type": "execute_result",
          "data": {
            "text/plain": [
              "  Tipo de atividade                 Data  Favorito  \\\n",
              "0           Corrida  2022-04-10 06:29:56     False   \n",
              "1           Corrida  2022-04-07 20:45:35     False   \n",
              "2           Corrida  2022-04-05 19:29:48     False   \n",
              "3           Corrida  2022-04-04 19:28:43     False   \n",
              "4           Corrida  2022-03-31 18:55:20     False   \n",
              "\n",
              "                            Título  Distância Calorias     Tempo FC Média  \\\n",
              "0  São Paulo - W16D7-HALF MARATHON      21.10    2,208  02:31:19      164   \n",
              "1         Jacareí - W16D4-Easy Run       3.71      414  00:30:14      147   \n",
              "2         Jacareí - W16D2-Easy Run       5.00      562  00:37:38      158   \n",
              "3         Jacareí - W15D7-Long Run       6.73      637  01:05:41      134   \n",
              "4                 W15D2-Steady Run       6.85      724  00:50:29      154   \n",
              "\n",
              "  FC máxima Training Effect Aeróbico  ...  Temp mínima  \\\n",
              "0       181                      4.0  ...          0.0   \n",
              "1       164                      2.7  ...          0.0   \n",
              "2       200                      3.3  ...          0.0   \n",
              "3       176                      2.2  ...          0.0   \n",
              "4       166                      3.4  ...          0.0   \n",
              "\n",
              "   Intervalo de superfície Descompressão Tempo da melhor volta  \\\n",
              "0                     0:00           Não              00:16.21   \n",
              "1                     0:00           Não              00:11.09   \n",
              "2                     0:00           Não              00:45.23   \n",
              "3                     0:00           Não              02:33.41   \n",
              "4                     0:00           Não              06:08.64   \n",
              "\n",
              "  Número de voltas Temp máxima  Tempo em movimento   Duração  Elevação mínima  \\\n",
              "0               23         0.0            02:31:15  02:33:24              689   \n",
              "1                5         0.0            00:30:12  00:30:14              563   \n",
              "2                6         0.0            00:37:37  00:37:38              561   \n",
              "3                8         0.0            01:05:39  01:05:41              563   \n",
              "4                7         0.0            00:50:26  00:50:29              568   \n",
              "\n",
              "   Elevação máxima  \n",
              "0              776  \n",
              "1              573  \n",
              "2              575  \n",
              "3              573  \n",
              "4              575  \n",
              "\n",
              "[5 rows x 33 columns]"
            ],
            "text/html": [
              "\n",
              "  <div id=\"df-fbd8c0e2-1610-4a34-a3d6-4f99d3cd6853\">\n",
              "    <div class=\"colab-df-container\">\n",
              "      <div>\n",
              "<style scoped>\n",
              "    .dataframe tbody tr th:only-of-type {\n",
              "        vertical-align: middle;\n",
              "    }\n",
              "\n",
              "    .dataframe tbody tr th {\n",
              "        vertical-align: top;\n",
              "    }\n",
              "\n",
              "    .dataframe thead th {\n",
              "        text-align: right;\n",
              "    }\n",
              "</style>\n",
              "<table border=\"1\" class=\"dataframe\">\n",
              "  <thead>\n",
              "    <tr style=\"text-align: right;\">\n",
              "      <th></th>\n",
              "      <th>Tipo de atividade</th>\n",
              "      <th>Data</th>\n",
              "      <th>Favorito</th>\n",
              "      <th>Título</th>\n",
              "      <th>Distância</th>\n",
              "      <th>Calorias</th>\n",
              "      <th>Tempo</th>\n",
              "      <th>FC Média</th>\n",
              "      <th>FC máxima</th>\n",
              "      <th>Training Effect Aeróbico</th>\n",
              "      <th>...</th>\n",
              "      <th>Temp mínima</th>\n",
              "      <th>Intervalo de superfície</th>\n",
              "      <th>Descompressão</th>\n",
              "      <th>Tempo da melhor volta</th>\n",
              "      <th>Número de voltas</th>\n",
              "      <th>Temp máxima</th>\n",
              "      <th>Tempo em movimento</th>\n",
              "      <th>Duração</th>\n",
              "      <th>Elevação mínima</th>\n",
              "      <th>Elevação máxima</th>\n",
              "    </tr>\n",
              "  </thead>\n",
              "  <tbody>\n",
              "    <tr>\n",
              "      <th>0</th>\n",
              "      <td>Corrida</td>\n",
              "      <td>2022-04-10 06:29:56</td>\n",
              "      <td>False</td>\n",
              "      <td>São Paulo - W16D7-HALF MARATHON</td>\n",
              "      <td>21.10</td>\n",
              "      <td>2,208</td>\n",
              "      <td>02:31:19</td>\n",
              "      <td>164</td>\n",
              "      <td>181</td>\n",
              "      <td>4.0</td>\n",
              "      <td>...</td>\n",
              "      <td>0.0</td>\n",
              "      <td>0:00</td>\n",
              "      <td>Não</td>\n",
              "      <td>00:16.21</td>\n",
              "      <td>23</td>\n",
              "      <td>0.0</td>\n",
              "      <td>02:31:15</td>\n",
              "      <td>02:33:24</td>\n",
              "      <td>689</td>\n",
              "      <td>776</td>\n",
              "    </tr>\n",
              "    <tr>\n",
              "      <th>1</th>\n",
              "      <td>Corrida</td>\n",
              "      <td>2022-04-07 20:45:35</td>\n",
              "      <td>False</td>\n",
              "      <td>Jacareí - W16D4-Easy Run</td>\n",
              "      <td>3.71</td>\n",
              "      <td>414</td>\n",
              "      <td>00:30:14</td>\n",
              "      <td>147</td>\n",
              "      <td>164</td>\n",
              "      <td>2.7</td>\n",
              "      <td>...</td>\n",
              "      <td>0.0</td>\n",
              "      <td>0:00</td>\n",
              "      <td>Não</td>\n",
              "      <td>00:11.09</td>\n",
              "      <td>5</td>\n",
              "      <td>0.0</td>\n",
              "      <td>00:30:12</td>\n",
              "      <td>00:30:14</td>\n",
              "      <td>563</td>\n",
              "      <td>573</td>\n",
              "    </tr>\n",
              "    <tr>\n",
              "      <th>2</th>\n",
              "      <td>Corrida</td>\n",
              "      <td>2022-04-05 19:29:48</td>\n",
              "      <td>False</td>\n",
              "      <td>Jacareí - W16D2-Easy Run</td>\n",
              "      <td>5.00</td>\n",
              "      <td>562</td>\n",
              "      <td>00:37:38</td>\n",
              "      <td>158</td>\n",
              "      <td>200</td>\n",
              "      <td>3.3</td>\n",
              "      <td>...</td>\n",
              "      <td>0.0</td>\n",
              "      <td>0:00</td>\n",
              "      <td>Não</td>\n",
              "      <td>00:45.23</td>\n",
              "      <td>6</td>\n",
              "      <td>0.0</td>\n",
              "      <td>00:37:37</td>\n",
              "      <td>00:37:38</td>\n",
              "      <td>561</td>\n",
              "      <td>575</td>\n",
              "    </tr>\n",
              "    <tr>\n",
              "      <th>3</th>\n",
              "      <td>Corrida</td>\n",
              "      <td>2022-04-04 19:28:43</td>\n",
              "      <td>False</td>\n",
              "      <td>Jacareí - W15D7-Long Run</td>\n",
              "      <td>6.73</td>\n",
              "      <td>637</td>\n",
              "      <td>01:05:41</td>\n",
              "      <td>134</td>\n",
              "      <td>176</td>\n",
              "      <td>2.2</td>\n",
              "      <td>...</td>\n",
              "      <td>0.0</td>\n",
              "      <td>0:00</td>\n",
              "      <td>Não</td>\n",
              "      <td>02:33.41</td>\n",
              "      <td>8</td>\n",
              "      <td>0.0</td>\n",
              "      <td>01:05:39</td>\n",
              "      <td>01:05:41</td>\n",
              "      <td>563</td>\n",
              "      <td>573</td>\n",
              "    </tr>\n",
              "    <tr>\n",
              "      <th>4</th>\n",
              "      <td>Corrida</td>\n",
              "      <td>2022-03-31 18:55:20</td>\n",
              "      <td>False</td>\n",
              "      <td>W15D2-Steady Run</td>\n",
              "      <td>6.85</td>\n",
              "      <td>724</td>\n",
              "      <td>00:50:29</td>\n",
              "      <td>154</td>\n",
              "      <td>166</td>\n",
              "      <td>3.4</td>\n",
              "      <td>...</td>\n",
              "      <td>0.0</td>\n",
              "      <td>0:00</td>\n",
              "      <td>Não</td>\n",
              "      <td>06:08.64</td>\n",
              "      <td>7</td>\n",
              "      <td>0.0</td>\n",
              "      <td>00:50:26</td>\n",
              "      <td>00:50:29</td>\n",
              "      <td>568</td>\n",
              "      <td>575</td>\n",
              "    </tr>\n",
              "  </tbody>\n",
              "</table>\n",
              "<p>5 rows × 33 columns</p>\n",
              "</div>\n",
              "      <button class=\"colab-df-convert\" onclick=\"convertToInteractive('df-fbd8c0e2-1610-4a34-a3d6-4f99d3cd6853')\"\n",
              "              title=\"Convert this dataframe to an interactive table.\"\n",
              "              style=\"display:none;\">\n",
              "        \n",
              "  <svg xmlns=\"http://www.w3.org/2000/svg\" height=\"24px\"viewBox=\"0 0 24 24\"\n",
              "       width=\"24px\">\n",
              "    <path d=\"M0 0h24v24H0V0z\" fill=\"none\"/>\n",
              "    <path d=\"M18.56 5.44l.94 2.06.94-2.06 2.06-.94-2.06-.94-.94-2.06-.94 2.06-2.06.94zm-11 1L8.5 8.5l.94-2.06 2.06-.94-2.06-.94L8.5 2.5l-.94 2.06-2.06.94zm10 10l.94 2.06.94-2.06 2.06-.94-2.06-.94-.94-2.06-.94 2.06-2.06.94z\"/><path d=\"M17.41 7.96l-1.37-1.37c-.4-.4-.92-.59-1.43-.59-.52 0-1.04.2-1.43.59L10.3 9.45l-7.72 7.72c-.78.78-.78 2.05 0 2.83L4 21.41c.39.39.9.59 1.41.59.51 0 1.02-.2 1.41-.59l7.78-7.78 2.81-2.81c.8-.78.8-2.07 0-2.86zM5.41 20L4 18.59l7.72-7.72 1.47 1.35L5.41 20z\"/>\n",
              "  </svg>\n",
              "      </button>\n",
              "      \n",
              "  <style>\n",
              "    .colab-df-container {\n",
              "      display:flex;\n",
              "      flex-wrap:wrap;\n",
              "      gap: 12px;\n",
              "    }\n",
              "\n",
              "    .colab-df-convert {\n",
              "      background-color: #E8F0FE;\n",
              "      border: none;\n",
              "      border-radius: 50%;\n",
              "      cursor: pointer;\n",
              "      display: none;\n",
              "      fill: #1967D2;\n",
              "      height: 32px;\n",
              "      padding: 0 0 0 0;\n",
              "      width: 32px;\n",
              "    }\n",
              "\n",
              "    .colab-df-convert:hover {\n",
              "      background-color: #E2EBFA;\n",
              "      box-shadow: 0px 1px 2px rgba(60, 64, 67, 0.3), 0px 1px 3px 1px rgba(60, 64, 67, 0.15);\n",
              "      fill: #174EA6;\n",
              "    }\n",
              "\n",
              "    [theme=dark] .colab-df-convert {\n",
              "      background-color: #3B4455;\n",
              "      fill: #D2E3FC;\n",
              "    }\n",
              "\n",
              "    [theme=dark] .colab-df-convert:hover {\n",
              "      background-color: #434B5C;\n",
              "      box-shadow: 0px 1px 3px 1px rgba(0, 0, 0, 0.15);\n",
              "      filter: drop-shadow(0px 1px 2px rgba(0, 0, 0, 0.3));\n",
              "      fill: #FFFFFF;\n",
              "    }\n",
              "  </style>\n",
              "\n",
              "      <script>\n",
              "        const buttonEl =\n",
              "          document.querySelector('#df-fbd8c0e2-1610-4a34-a3d6-4f99d3cd6853 button.colab-df-convert');\n",
              "        buttonEl.style.display =\n",
              "          google.colab.kernel.accessAllowed ? 'block' : 'none';\n",
              "\n",
              "        async function convertToInteractive(key) {\n",
              "          const element = document.querySelector('#df-fbd8c0e2-1610-4a34-a3d6-4f99d3cd6853');\n",
              "          const dataTable =\n",
              "            await google.colab.kernel.invokeFunction('convertToInteractive',\n",
              "                                                     [key], {});\n",
              "          if (!dataTable) return;\n",
              "\n",
              "          const docLinkHtml = 'Like what you see? Visit the ' +\n",
              "            '<a target=\"_blank\" href=https://colab.research.google.com/notebooks/data_table.ipynb>data table notebook</a>'\n",
              "            + ' to learn more about interactive tables.';\n",
              "          element.innerHTML = '';\n",
              "          dataTable['output_type'] = 'display_data';\n",
              "          await google.colab.output.renderOutput(dataTable, element);\n",
              "          const docLink = document.createElement('div');\n",
              "          docLink.innerHTML = docLinkHtml;\n",
              "          element.appendChild(docLink);\n",
              "        }\n",
              "      </script>\n",
              "    </div>\n",
              "  </div>\n",
              "  "
            ]
          },
          "metadata": {},
          "execution_count": 4
        }
      ]
    },
    {
      "cell_type": "code",
      "source": [
        "basis.info()"
      ],
      "metadata": {
        "colab": {
          "base_uri": "https://localhost:8080/"
        },
        "id": "d0MsuvwtHMAA",
        "outputId": "751637b0-ae2e-4c1e-b34d-f194dd6b63fa"
      },
      "execution_count": null,
      "outputs": [
        {
          "output_type": "stream",
          "name": "stdout",
          "text": [
            "<class 'pandas.core.frame.DataFrame'>\n",
            "RangeIndex: 39 entries, 0 to 38\n",
            "Data columns (total 33 columns):\n",
            " #   Column                        Non-Null Count  Dtype  \n",
            "---  ------                        --------------  -----  \n",
            " 0   Tipo de atividade             39 non-null     object \n",
            " 1   Data                          39 non-null     object \n",
            " 2   Favorito                      39 non-null     bool   \n",
            " 3   Título                        39 non-null     object \n",
            " 4   Distância                     39 non-null     float64\n",
            " 5   Calorias                      39 non-null     object \n",
            " 6   Tempo                         39 non-null     object \n",
            " 7   FC Média                      39 non-null     object \n",
            " 8   FC máxima                     39 non-null     object \n",
            " 9   Training Effect Aeróbico      39 non-null     object \n",
            " 10  Cadência de corrida média     39 non-null     int64  \n",
            " 11  Cadência de corrida máxima    39 non-null     int64  \n",
            " 12  Ritmo médio                   39 non-null     object \n",
            " 13  Melhor ritmo                  39 non-null     object \n",
            " 14  Subida total                  39 non-null     object \n",
            " 15  Descida total                 39 non-null     object \n",
            " 16  Comprimento médio da passada  39 non-null     float64\n",
            " 17  Proporção de média vertical   39 non-null     float64\n",
            " 18  Oscilação vertical média      39 non-null     float64\n",
            " 19  Training Stress Score®        39 non-null     float64\n",
            " 20  Granularidade                 39 non-null     float64\n",
            " 21  Fluxo                         39 non-null     float64\n",
            " 22  Tempo de mergulho             39 non-null     object \n",
            " 23  Temp mínima                   39 non-null     float64\n",
            " 24  Intervalo de superfície       39 non-null     object \n",
            " 25  Descompressão                 39 non-null     object \n",
            " 26  Tempo da melhor volta         39 non-null     object \n",
            " 27  Número de voltas              39 non-null     int64  \n",
            " 28  Temp máxima                   39 non-null     float64\n",
            " 29  Tempo em movimento            39 non-null     object \n",
            " 30  Duração                       39 non-null     object \n",
            " 31  Elevação mínima               39 non-null     object \n",
            " 32  Elevação máxima               39 non-null     object \n",
            "dtypes: bool(1), float64(9), int64(3), object(20)\n",
            "memory usage: 9.9+ KB\n"
          ]
        }
      ]
    },
    {
      "cell_type": "code",
      "source": [
        "basis.describe()"
      ],
      "metadata": {
        "colab": {
          "base_uri": "https://localhost:8080/",
          "height": 362
        },
        "id": "i9LJR3ysGsMI",
        "outputId": "3e3ce579-6dc2-440e-da4f-0bd042000424"
      },
      "execution_count": null,
      "outputs": [
        {
          "output_type": "execute_result",
          "data": {
            "text/plain": [
              "       Distância  Cadência de corrida média  Cadência de corrida máxima  \\\n",
              "count  39.000000                  39.000000                   39.000000   \n",
              "mean    7.485128                 146.307692                  179.769231   \n",
              "std     4.559553                  12.407879                   32.262461   \n",
              "min     1.290000                 123.000000                  131.000000   \n",
              "25%     4.830000                 140.500000                  166.000000   \n",
              "50%     5.790000                 150.000000                  170.000000   \n",
              "75%     8.025000                 155.500000                  175.500000   \n",
              "max    21.100000                 162.000000                  249.000000   \n",
              "\n",
              "       Comprimento médio da passada  Proporção de média vertical  \\\n",
              "count                     39.000000                         39.0   \n",
              "mean                       0.786667                          0.0   \n",
              "std                        0.086521                          0.0   \n",
              "min                        0.580000                          0.0   \n",
              "25%                        0.740000                          0.0   \n",
              "50%                        0.780000                          0.0   \n",
              "75%                        0.845000                          0.0   \n",
              "max                        0.990000                          0.0   \n",
              "\n",
              "       Oscilação vertical média  Training Stress Score®  Granularidade  Fluxo  \\\n",
              "count                      39.0                    39.0           39.0   39.0   \n",
              "mean                        0.0                     0.0            0.0    0.0   \n",
              "std                         0.0                     0.0            0.0    0.0   \n",
              "min                         0.0                     0.0            0.0    0.0   \n",
              "25%                         0.0                     0.0            0.0    0.0   \n",
              "50%                         0.0                     0.0            0.0    0.0   \n",
              "75%                         0.0                     0.0            0.0    0.0   \n",
              "max                         0.0                     0.0            0.0    0.0   \n",
              "\n",
              "       Temp mínima  Número de voltas  Temp máxima  \n",
              "count         39.0         39.000000         39.0  \n",
              "mean           0.0          9.358974          0.0  \n",
              "std            0.0          4.954993          0.0  \n",
              "min            0.0          2.000000          0.0  \n",
              "25%            0.0          6.000000          0.0  \n",
              "50%            0.0          7.000000          0.0  \n",
              "75%            0.0         12.000000          0.0  \n",
              "max            0.0         23.000000          0.0  "
            ],
            "text/html": [
              "\n",
              "  <div id=\"df-a91576ab-2ecd-4e3a-9636-15c97a0a5f7e\">\n",
              "    <div class=\"colab-df-container\">\n",
              "      <div>\n",
              "<style scoped>\n",
              "    .dataframe tbody tr th:only-of-type {\n",
              "        vertical-align: middle;\n",
              "    }\n",
              "\n",
              "    .dataframe tbody tr th {\n",
              "        vertical-align: top;\n",
              "    }\n",
              "\n",
              "    .dataframe thead th {\n",
              "        text-align: right;\n",
              "    }\n",
              "</style>\n",
              "<table border=\"1\" class=\"dataframe\">\n",
              "  <thead>\n",
              "    <tr style=\"text-align: right;\">\n",
              "      <th></th>\n",
              "      <th>Distância</th>\n",
              "      <th>Cadência de corrida média</th>\n",
              "      <th>Cadência de corrida máxima</th>\n",
              "      <th>Comprimento médio da passada</th>\n",
              "      <th>Proporção de média vertical</th>\n",
              "      <th>Oscilação vertical média</th>\n",
              "      <th>Training Stress Score®</th>\n",
              "      <th>Granularidade</th>\n",
              "      <th>Fluxo</th>\n",
              "      <th>Temp mínima</th>\n",
              "      <th>Número de voltas</th>\n",
              "      <th>Temp máxima</th>\n",
              "    </tr>\n",
              "  </thead>\n",
              "  <tbody>\n",
              "    <tr>\n",
              "      <th>count</th>\n",
              "      <td>39.000000</td>\n",
              "      <td>39.000000</td>\n",
              "      <td>39.000000</td>\n",
              "      <td>39.000000</td>\n",
              "      <td>39.0</td>\n",
              "      <td>39.0</td>\n",
              "      <td>39.0</td>\n",
              "      <td>39.0</td>\n",
              "      <td>39.0</td>\n",
              "      <td>39.0</td>\n",
              "      <td>39.000000</td>\n",
              "      <td>39.0</td>\n",
              "    </tr>\n",
              "    <tr>\n",
              "      <th>mean</th>\n",
              "      <td>7.485128</td>\n",
              "      <td>146.307692</td>\n",
              "      <td>179.769231</td>\n",
              "      <td>0.786667</td>\n",
              "      <td>0.0</td>\n",
              "      <td>0.0</td>\n",
              "      <td>0.0</td>\n",
              "      <td>0.0</td>\n",
              "      <td>0.0</td>\n",
              "      <td>0.0</td>\n",
              "      <td>9.358974</td>\n",
              "      <td>0.0</td>\n",
              "    </tr>\n",
              "    <tr>\n",
              "      <th>std</th>\n",
              "      <td>4.559553</td>\n",
              "      <td>12.407879</td>\n",
              "      <td>32.262461</td>\n",
              "      <td>0.086521</td>\n",
              "      <td>0.0</td>\n",
              "      <td>0.0</td>\n",
              "      <td>0.0</td>\n",
              "      <td>0.0</td>\n",
              "      <td>0.0</td>\n",
              "      <td>0.0</td>\n",
              "      <td>4.954993</td>\n",
              "      <td>0.0</td>\n",
              "    </tr>\n",
              "    <tr>\n",
              "      <th>min</th>\n",
              "      <td>1.290000</td>\n",
              "      <td>123.000000</td>\n",
              "      <td>131.000000</td>\n",
              "      <td>0.580000</td>\n",
              "      <td>0.0</td>\n",
              "      <td>0.0</td>\n",
              "      <td>0.0</td>\n",
              "      <td>0.0</td>\n",
              "      <td>0.0</td>\n",
              "      <td>0.0</td>\n",
              "      <td>2.000000</td>\n",
              "      <td>0.0</td>\n",
              "    </tr>\n",
              "    <tr>\n",
              "      <th>25%</th>\n",
              "      <td>4.830000</td>\n",
              "      <td>140.500000</td>\n",
              "      <td>166.000000</td>\n",
              "      <td>0.740000</td>\n",
              "      <td>0.0</td>\n",
              "      <td>0.0</td>\n",
              "      <td>0.0</td>\n",
              "      <td>0.0</td>\n",
              "      <td>0.0</td>\n",
              "      <td>0.0</td>\n",
              "      <td>6.000000</td>\n",
              "      <td>0.0</td>\n",
              "    </tr>\n",
              "    <tr>\n",
              "      <th>50%</th>\n",
              "      <td>5.790000</td>\n",
              "      <td>150.000000</td>\n",
              "      <td>170.000000</td>\n",
              "      <td>0.780000</td>\n",
              "      <td>0.0</td>\n",
              "      <td>0.0</td>\n",
              "      <td>0.0</td>\n",
              "      <td>0.0</td>\n",
              "      <td>0.0</td>\n",
              "      <td>0.0</td>\n",
              "      <td>7.000000</td>\n",
              "      <td>0.0</td>\n",
              "    </tr>\n",
              "    <tr>\n",
              "      <th>75%</th>\n",
              "      <td>8.025000</td>\n",
              "      <td>155.500000</td>\n",
              "      <td>175.500000</td>\n",
              "      <td>0.845000</td>\n",
              "      <td>0.0</td>\n",
              "      <td>0.0</td>\n",
              "      <td>0.0</td>\n",
              "      <td>0.0</td>\n",
              "      <td>0.0</td>\n",
              "      <td>0.0</td>\n",
              "      <td>12.000000</td>\n",
              "      <td>0.0</td>\n",
              "    </tr>\n",
              "    <tr>\n",
              "      <th>max</th>\n",
              "      <td>21.100000</td>\n",
              "      <td>162.000000</td>\n",
              "      <td>249.000000</td>\n",
              "      <td>0.990000</td>\n",
              "      <td>0.0</td>\n",
              "      <td>0.0</td>\n",
              "      <td>0.0</td>\n",
              "      <td>0.0</td>\n",
              "      <td>0.0</td>\n",
              "      <td>0.0</td>\n",
              "      <td>23.000000</td>\n",
              "      <td>0.0</td>\n",
              "    </tr>\n",
              "  </tbody>\n",
              "</table>\n",
              "</div>\n",
              "      <button class=\"colab-df-convert\" onclick=\"convertToInteractive('df-a91576ab-2ecd-4e3a-9636-15c97a0a5f7e')\"\n",
              "              title=\"Convert this dataframe to an interactive table.\"\n",
              "              style=\"display:none;\">\n",
              "        \n",
              "  <svg xmlns=\"http://www.w3.org/2000/svg\" height=\"24px\"viewBox=\"0 0 24 24\"\n",
              "       width=\"24px\">\n",
              "    <path d=\"M0 0h24v24H0V0z\" fill=\"none\"/>\n",
              "    <path d=\"M18.56 5.44l.94 2.06.94-2.06 2.06-.94-2.06-.94-.94-2.06-.94 2.06-2.06.94zm-11 1L8.5 8.5l.94-2.06 2.06-.94-2.06-.94L8.5 2.5l-.94 2.06-2.06.94zm10 10l.94 2.06.94-2.06 2.06-.94-2.06-.94-.94-2.06-.94 2.06-2.06.94z\"/><path d=\"M17.41 7.96l-1.37-1.37c-.4-.4-.92-.59-1.43-.59-.52 0-1.04.2-1.43.59L10.3 9.45l-7.72 7.72c-.78.78-.78 2.05 0 2.83L4 21.41c.39.39.9.59 1.41.59.51 0 1.02-.2 1.41-.59l7.78-7.78 2.81-2.81c.8-.78.8-2.07 0-2.86zM5.41 20L4 18.59l7.72-7.72 1.47 1.35L5.41 20z\"/>\n",
              "  </svg>\n",
              "      </button>\n",
              "      \n",
              "  <style>\n",
              "    .colab-df-container {\n",
              "      display:flex;\n",
              "      flex-wrap:wrap;\n",
              "      gap: 12px;\n",
              "    }\n",
              "\n",
              "    .colab-df-convert {\n",
              "      background-color: #E8F0FE;\n",
              "      border: none;\n",
              "      border-radius: 50%;\n",
              "      cursor: pointer;\n",
              "      display: none;\n",
              "      fill: #1967D2;\n",
              "      height: 32px;\n",
              "      padding: 0 0 0 0;\n",
              "      width: 32px;\n",
              "    }\n",
              "\n",
              "    .colab-df-convert:hover {\n",
              "      background-color: #E2EBFA;\n",
              "      box-shadow: 0px 1px 2px rgba(60, 64, 67, 0.3), 0px 1px 3px 1px rgba(60, 64, 67, 0.15);\n",
              "      fill: #174EA6;\n",
              "    }\n",
              "\n",
              "    [theme=dark] .colab-df-convert {\n",
              "      background-color: #3B4455;\n",
              "      fill: #D2E3FC;\n",
              "    }\n",
              "\n",
              "    [theme=dark] .colab-df-convert:hover {\n",
              "      background-color: #434B5C;\n",
              "      box-shadow: 0px 1px 3px 1px rgba(0, 0, 0, 0.15);\n",
              "      filter: drop-shadow(0px 1px 2px rgba(0, 0, 0, 0.3));\n",
              "      fill: #FFFFFF;\n",
              "    }\n",
              "  </style>\n",
              "\n",
              "      <script>\n",
              "        const buttonEl =\n",
              "          document.querySelector('#df-a91576ab-2ecd-4e3a-9636-15c97a0a5f7e button.colab-df-convert');\n",
              "        buttonEl.style.display =\n",
              "          google.colab.kernel.accessAllowed ? 'block' : 'none';\n",
              "\n",
              "        async function convertToInteractive(key) {\n",
              "          const element = document.querySelector('#df-a91576ab-2ecd-4e3a-9636-15c97a0a5f7e');\n",
              "          const dataTable =\n",
              "            await google.colab.kernel.invokeFunction('convertToInteractive',\n",
              "                                                     [key], {});\n",
              "          if (!dataTable) return;\n",
              "\n",
              "          const docLinkHtml = 'Like what you see? Visit the ' +\n",
              "            '<a target=\"_blank\" href=https://colab.research.google.com/notebooks/data_table.ipynb>data table notebook</a>'\n",
              "            + ' to learn more about interactive tables.';\n",
              "          element.innerHTML = '';\n",
              "          dataTable['output_type'] = 'display_data';\n",
              "          await google.colab.output.renderOutput(dataTable, element);\n",
              "          const docLink = document.createElement('div');\n",
              "          docLink.innerHTML = docLinkHtml;\n",
              "          element.appendChild(docLink);\n",
              "        }\n",
              "      </script>\n",
              "    </div>\n",
              "  </div>\n",
              "  "
            ]
          },
          "metadata": {},
          "execution_count": 6
        }
      ]
    },
    {
      "cell_type": "code",
      "source": [
        "basis.sample(3)"
      ],
      "metadata": {
        "colab": {
          "base_uri": "https://localhost:8080/",
          "height": 338
        },
        "id": "BR_KOuuk6KVf",
        "outputId": "836a3455-5d53-45dc-a942-f36ecd8e7640"
      },
      "execution_count": null,
      "outputs": [
        {
          "output_type": "execute_result",
          "data": {
            "text/plain": [
              "     Tipo de atividade                 Data  Favorito  \\\n",
              "19  Corrida em esteira  2022-02-07 20:11:48     False   \n",
              "34             Corrida  2022-01-10 18:56:33     False   \n",
              "7              Corrida  2022-03-20 07:34:53     False   \n",
              "\n",
              "                      Título  Distância Calorias     Tempo FC Média FC máxima  \\\n",
              "19        Corrida em esteira       1.29      132  00:15:02      117       158   \n",
              "34  Jacareí - W03D7-Long Run       7.57      668  01:16:50      124       186   \n",
              "7   Jacareí - W13D7-10k Race      10.01      969  01:02:28      168       185   \n",
              "\n",
              "   Training Effect Aeróbico  ...  Temp mínima  Intervalo de superfície  \\\n",
              "19                      1.5  ...          0.0                     0:00   \n",
              "34                      2.3  ...          0.0                     0:00   \n",
              "7                       5.0  ...          0.0                     0:00   \n",
              "\n",
              "   Descompressão Tempo da melhor volta Número de voltas Temp máxima  \\\n",
              "19           Não              02:31.46                2         0.0   \n",
              "34           Não              00:31.99               11         0.0   \n",
              "7            Não              00:03.80               11         0.0   \n",
              "\n",
              "    Tempo em movimento   Duração  Elevação mínima  Elevação máxima  \n",
              "19            00:13:30  00:15:02              574              574  \n",
              "34            01:16:48  01:22:10              558              567  \n",
              "7             01:02:27  01:02:28              556              570  \n",
              "\n",
              "[3 rows x 33 columns]"
            ],
            "text/html": [
              "\n",
              "  <div id=\"df-16e11497-21e5-4c6a-a73b-b4c9bf540b7f\">\n",
              "    <div class=\"colab-df-container\">\n",
              "      <div>\n",
              "<style scoped>\n",
              "    .dataframe tbody tr th:only-of-type {\n",
              "        vertical-align: middle;\n",
              "    }\n",
              "\n",
              "    .dataframe tbody tr th {\n",
              "        vertical-align: top;\n",
              "    }\n",
              "\n",
              "    .dataframe thead th {\n",
              "        text-align: right;\n",
              "    }\n",
              "</style>\n",
              "<table border=\"1\" class=\"dataframe\">\n",
              "  <thead>\n",
              "    <tr style=\"text-align: right;\">\n",
              "      <th></th>\n",
              "      <th>Tipo de atividade</th>\n",
              "      <th>Data</th>\n",
              "      <th>Favorito</th>\n",
              "      <th>Título</th>\n",
              "      <th>Distância</th>\n",
              "      <th>Calorias</th>\n",
              "      <th>Tempo</th>\n",
              "      <th>FC Média</th>\n",
              "      <th>FC máxima</th>\n",
              "      <th>Training Effect Aeróbico</th>\n",
              "      <th>...</th>\n",
              "      <th>Temp mínima</th>\n",
              "      <th>Intervalo de superfície</th>\n",
              "      <th>Descompressão</th>\n",
              "      <th>Tempo da melhor volta</th>\n",
              "      <th>Número de voltas</th>\n",
              "      <th>Temp máxima</th>\n",
              "      <th>Tempo em movimento</th>\n",
              "      <th>Duração</th>\n",
              "      <th>Elevação mínima</th>\n",
              "      <th>Elevação máxima</th>\n",
              "    </tr>\n",
              "  </thead>\n",
              "  <tbody>\n",
              "    <tr>\n",
              "      <th>19</th>\n",
              "      <td>Corrida em esteira</td>\n",
              "      <td>2022-02-07 20:11:48</td>\n",
              "      <td>False</td>\n",
              "      <td>Corrida em esteira</td>\n",
              "      <td>1.29</td>\n",
              "      <td>132</td>\n",
              "      <td>00:15:02</td>\n",
              "      <td>117</td>\n",
              "      <td>158</td>\n",
              "      <td>1.5</td>\n",
              "      <td>...</td>\n",
              "      <td>0.0</td>\n",
              "      <td>0:00</td>\n",
              "      <td>Não</td>\n",
              "      <td>02:31.46</td>\n",
              "      <td>2</td>\n",
              "      <td>0.0</td>\n",
              "      <td>00:13:30</td>\n",
              "      <td>00:15:02</td>\n",
              "      <td>574</td>\n",
              "      <td>574</td>\n",
              "    </tr>\n",
              "    <tr>\n",
              "      <th>34</th>\n",
              "      <td>Corrida</td>\n",
              "      <td>2022-01-10 18:56:33</td>\n",
              "      <td>False</td>\n",
              "      <td>Jacareí - W03D7-Long Run</td>\n",
              "      <td>7.57</td>\n",
              "      <td>668</td>\n",
              "      <td>01:16:50</td>\n",
              "      <td>124</td>\n",
              "      <td>186</td>\n",
              "      <td>2.3</td>\n",
              "      <td>...</td>\n",
              "      <td>0.0</td>\n",
              "      <td>0:00</td>\n",
              "      <td>Não</td>\n",
              "      <td>00:31.99</td>\n",
              "      <td>11</td>\n",
              "      <td>0.0</td>\n",
              "      <td>01:16:48</td>\n",
              "      <td>01:22:10</td>\n",
              "      <td>558</td>\n",
              "      <td>567</td>\n",
              "    </tr>\n",
              "    <tr>\n",
              "      <th>7</th>\n",
              "      <td>Corrida</td>\n",
              "      <td>2022-03-20 07:34:53</td>\n",
              "      <td>False</td>\n",
              "      <td>Jacareí - W13D7-10k Race</td>\n",
              "      <td>10.01</td>\n",
              "      <td>969</td>\n",
              "      <td>01:02:28</td>\n",
              "      <td>168</td>\n",
              "      <td>185</td>\n",
              "      <td>5.0</td>\n",
              "      <td>...</td>\n",
              "      <td>0.0</td>\n",
              "      <td>0:00</td>\n",
              "      <td>Não</td>\n",
              "      <td>00:03.80</td>\n",
              "      <td>11</td>\n",
              "      <td>0.0</td>\n",
              "      <td>01:02:27</td>\n",
              "      <td>01:02:28</td>\n",
              "      <td>556</td>\n",
              "      <td>570</td>\n",
              "    </tr>\n",
              "  </tbody>\n",
              "</table>\n",
              "<p>3 rows × 33 columns</p>\n",
              "</div>\n",
              "      <button class=\"colab-df-convert\" onclick=\"convertToInteractive('df-16e11497-21e5-4c6a-a73b-b4c9bf540b7f')\"\n",
              "              title=\"Convert this dataframe to an interactive table.\"\n",
              "              style=\"display:none;\">\n",
              "        \n",
              "  <svg xmlns=\"http://www.w3.org/2000/svg\" height=\"24px\"viewBox=\"0 0 24 24\"\n",
              "       width=\"24px\">\n",
              "    <path d=\"M0 0h24v24H0V0z\" fill=\"none\"/>\n",
              "    <path d=\"M18.56 5.44l.94 2.06.94-2.06 2.06-.94-2.06-.94-.94-2.06-.94 2.06-2.06.94zm-11 1L8.5 8.5l.94-2.06 2.06-.94-2.06-.94L8.5 2.5l-.94 2.06-2.06.94zm10 10l.94 2.06.94-2.06 2.06-.94-2.06-.94-.94-2.06-.94 2.06-2.06.94z\"/><path d=\"M17.41 7.96l-1.37-1.37c-.4-.4-.92-.59-1.43-.59-.52 0-1.04.2-1.43.59L10.3 9.45l-7.72 7.72c-.78.78-.78 2.05 0 2.83L4 21.41c.39.39.9.59 1.41.59.51 0 1.02-.2 1.41-.59l7.78-7.78 2.81-2.81c.8-.78.8-2.07 0-2.86zM5.41 20L4 18.59l7.72-7.72 1.47 1.35L5.41 20z\"/>\n",
              "  </svg>\n",
              "      </button>\n",
              "      \n",
              "  <style>\n",
              "    .colab-df-container {\n",
              "      display:flex;\n",
              "      flex-wrap:wrap;\n",
              "      gap: 12px;\n",
              "    }\n",
              "\n",
              "    .colab-df-convert {\n",
              "      background-color: #E8F0FE;\n",
              "      border: none;\n",
              "      border-radius: 50%;\n",
              "      cursor: pointer;\n",
              "      display: none;\n",
              "      fill: #1967D2;\n",
              "      height: 32px;\n",
              "      padding: 0 0 0 0;\n",
              "      width: 32px;\n",
              "    }\n",
              "\n",
              "    .colab-df-convert:hover {\n",
              "      background-color: #E2EBFA;\n",
              "      box-shadow: 0px 1px 2px rgba(60, 64, 67, 0.3), 0px 1px 3px 1px rgba(60, 64, 67, 0.15);\n",
              "      fill: #174EA6;\n",
              "    }\n",
              "\n",
              "    [theme=dark] .colab-df-convert {\n",
              "      background-color: #3B4455;\n",
              "      fill: #D2E3FC;\n",
              "    }\n",
              "\n",
              "    [theme=dark] .colab-df-convert:hover {\n",
              "      background-color: #434B5C;\n",
              "      box-shadow: 0px 1px 3px 1px rgba(0, 0, 0, 0.15);\n",
              "      filter: drop-shadow(0px 1px 2px rgba(0, 0, 0, 0.3));\n",
              "      fill: #FFFFFF;\n",
              "    }\n",
              "  </style>\n",
              "\n",
              "      <script>\n",
              "        const buttonEl =\n",
              "          document.querySelector('#df-16e11497-21e5-4c6a-a73b-b4c9bf540b7f button.colab-df-convert');\n",
              "        buttonEl.style.display =\n",
              "          google.colab.kernel.accessAllowed ? 'block' : 'none';\n",
              "\n",
              "        async function convertToInteractive(key) {\n",
              "          const element = document.querySelector('#df-16e11497-21e5-4c6a-a73b-b4c9bf540b7f');\n",
              "          const dataTable =\n",
              "            await google.colab.kernel.invokeFunction('convertToInteractive',\n",
              "                                                     [key], {});\n",
              "          if (!dataTable) return;\n",
              "\n",
              "          const docLinkHtml = 'Like what you see? Visit the ' +\n",
              "            '<a target=\"_blank\" href=https://colab.research.google.com/notebooks/data_table.ipynb>data table notebook</a>'\n",
              "            + ' to learn more about interactive tables.';\n",
              "          element.innerHTML = '';\n",
              "          dataTable['output_type'] = 'display_data';\n",
              "          await google.colab.output.renderOutput(dataTable, element);\n",
              "          const docLink = document.createElement('div');\n",
              "          docLink.innerHTML = docLinkHtml;\n",
              "          element.appendChild(docLink);\n",
              "        }\n",
              "      </script>\n",
              "    </div>\n",
              "  </div>\n",
              "  "
            ]
          },
          "metadata": {},
          "execution_count": 7
        }
      ]
    },
    {
      "cell_type": "markdown",
      "source": [
        "## **Data Cleaning**"
      ],
      "metadata": {
        "id": "PkNrFQsYymnE"
      }
    },
    {
      "cell_type": "markdown",
      "source": [
        "## Date data"
      ],
      "metadata": {
        "id": "nt_06xz96VW4"
      }
    },
    {
      "cell_type": "code",
      "source": [
        "basis[\"Data\"]=pd.to_datetime(basis[\"Data\"])"
      ],
      "metadata": {
        "id": "44ecB73vpTuy"
      },
      "execution_count": null,
      "outputs": []
    },
    {
      "cell_type": "code",
      "source": [
        "basis[\"Data\"][0]"
      ],
      "metadata": {
        "colab": {
          "base_uri": "https://localhost:8080/"
        },
        "id": "i7UKrNBppTr6",
        "outputId": "bedd3c26-1f44-4811-ebed-03ea5c0918cd"
      },
      "execution_count": null,
      "outputs": [
        {
          "output_type": "execute_result",
          "data": {
            "text/plain": [
              "Timestamp('2022-04-10 06:29:56')"
            ]
          },
          "metadata": {},
          "execution_count": 9
        }
      ]
    },
    {
      "cell_type": "code",
      "source": [
        "basis[\"Day\"]= basis[\"Data\"].dt.day"
      ],
      "metadata": {
        "id": "agnWvzfqpTmK"
      },
      "execution_count": null,
      "outputs": []
    },
    {
      "cell_type": "code",
      "source": [
        "basis[\"Month\"]= basis[\"Data\"].dt.month"
      ],
      "metadata": {
        "id": "h25ZyEm7pTjr"
      },
      "execution_count": null,
      "outputs": []
    },
    {
      "cell_type": "code",
      "source": [
        "basis[\"Year\"]= basis[\"Data\"].dt.year"
      ],
      "metadata": {
        "id": "UvA95njEsInr"
      },
      "execution_count": null,
      "outputs": []
    },
    {
      "cell_type": "code",
      "source": [
        "basis.head()"
      ],
      "metadata": {
        "colab": {
          "base_uri": "https://localhost:8080/",
          "height": 401
        },
        "id": "u0-Zcg41sIlF",
        "outputId": "275ee155-a27e-4f39-8d78-a85db7683a5f"
      },
      "execution_count": null,
      "outputs": [
        {
          "output_type": "execute_result",
          "data": {
            "text/plain": [
              "  Tipo de atividade                Data  Favorito  \\\n",
              "0           Corrida 2022-04-10 06:29:56     False   \n",
              "1           Corrida 2022-04-07 20:45:35     False   \n",
              "2           Corrida 2022-04-05 19:29:48     False   \n",
              "3           Corrida 2022-04-04 19:28:43     False   \n",
              "4           Corrida 2022-03-31 18:55:20     False   \n",
              "\n",
              "                            Título  Distância Calorias     Tempo FC Média  \\\n",
              "0  São Paulo - W16D7-HALF MARATHON      21.10    2,208  02:31:19      164   \n",
              "1         Jacareí - W16D4-Easy Run       3.71      414  00:30:14      147   \n",
              "2         Jacareí - W16D2-Easy Run       5.00      562  00:37:38      158   \n",
              "3         Jacareí - W15D7-Long Run       6.73      637  01:05:41      134   \n",
              "4                 W15D2-Steady Run       6.85      724  00:50:29      154   \n",
              "\n",
              "  FC máxima Training Effect Aeróbico  ...  Tempo da melhor volta  \\\n",
              "0       181                      4.0  ...               00:16.21   \n",
              "1       164                      2.7  ...               00:11.09   \n",
              "2       200                      3.3  ...               00:45.23   \n",
              "3       176                      2.2  ...               02:33.41   \n",
              "4       166                      3.4  ...               06:08.64   \n",
              "\n",
              "   Número de voltas Temp máxima Tempo em movimento   Duração Elevação mínima  \\\n",
              "0                23         0.0           02:31:15  02:33:24             689   \n",
              "1                 5         0.0           00:30:12  00:30:14             563   \n",
              "2                 6         0.0           00:37:37  00:37:38             561   \n",
              "3                 8         0.0           01:05:39  01:05:41             563   \n",
              "4                 7         0.0           00:50:26  00:50:29             568   \n",
              "\n",
              "   Elevação máxima  Day  Month  Year  \n",
              "0              776   10      4  2022  \n",
              "1              573    7      4  2022  \n",
              "2              575    5      4  2022  \n",
              "3              573    4      4  2022  \n",
              "4              575   31      3  2022  \n",
              "\n",
              "[5 rows x 36 columns]"
            ],
            "text/html": [
              "\n",
              "  <div id=\"df-762933de-6bdf-4894-979f-9614334cf7f0\">\n",
              "    <div class=\"colab-df-container\">\n",
              "      <div>\n",
              "<style scoped>\n",
              "    .dataframe tbody tr th:only-of-type {\n",
              "        vertical-align: middle;\n",
              "    }\n",
              "\n",
              "    .dataframe tbody tr th {\n",
              "        vertical-align: top;\n",
              "    }\n",
              "\n",
              "    .dataframe thead th {\n",
              "        text-align: right;\n",
              "    }\n",
              "</style>\n",
              "<table border=\"1\" class=\"dataframe\">\n",
              "  <thead>\n",
              "    <tr style=\"text-align: right;\">\n",
              "      <th></th>\n",
              "      <th>Tipo de atividade</th>\n",
              "      <th>Data</th>\n",
              "      <th>Favorito</th>\n",
              "      <th>Título</th>\n",
              "      <th>Distância</th>\n",
              "      <th>Calorias</th>\n",
              "      <th>Tempo</th>\n",
              "      <th>FC Média</th>\n",
              "      <th>FC máxima</th>\n",
              "      <th>Training Effect Aeróbico</th>\n",
              "      <th>...</th>\n",
              "      <th>Tempo da melhor volta</th>\n",
              "      <th>Número de voltas</th>\n",
              "      <th>Temp máxima</th>\n",
              "      <th>Tempo em movimento</th>\n",
              "      <th>Duração</th>\n",
              "      <th>Elevação mínima</th>\n",
              "      <th>Elevação máxima</th>\n",
              "      <th>Day</th>\n",
              "      <th>Month</th>\n",
              "      <th>Year</th>\n",
              "    </tr>\n",
              "  </thead>\n",
              "  <tbody>\n",
              "    <tr>\n",
              "      <th>0</th>\n",
              "      <td>Corrida</td>\n",
              "      <td>2022-04-10 06:29:56</td>\n",
              "      <td>False</td>\n",
              "      <td>São Paulo - W16D7-HALF MARATHON</td>\n",
              "      <td>21.10</td>\n",
              "      <td>2,208</td>\n",
              "      <td>02:31:19</td>\n",
              "      <td>164</td>\n",
              "      <td>181</td>\n",
              "      <td>4.0</td>\n",
              "      <td>...</td>\n",
              "      <td>00:16.21</td>\n",
              "      <td>23</td>\n",
              "      <td>0.0</td>\n",
              "      <td>02:31:15</td>\n",
              "      <td>02:33:24</td>\n",
              "      <td>689</td>\n",
              "      <td>776</td>\n",
              "      <td>10</td>\n",
              "      <td>4</td>\n",
              "      <td>2022</td>\n",
              "    </tr>\n",
              "    <tr>\n",
              "      <th>1</th>\n",
              "      <td>Corrida</td>\n",
              "      <td>2022-04-07 20:45:35</td>\n",
              "      <td>False</td>\n",
              "      <td>Jacareí - W16D4-Easy Run</td>\n",
              "      <td>3.71</td>\n",
              "      <td>414</td>\n",
              "      <td>00:30:14</td>\n",
              "      <td>147</td>\n",
              "      <td>164</td>\n",
              "      <td>2.7</td>\n",
              "      <td>...</td>\n",
              "      <td>00:11.09</td>\n",
              "      <td>5</td>\n",
              "      <td>0.0</td>\n",
              "      <td>00:30:12</td>\n",
              "      <td>00:30:14</td>\n",
              "      <td>563</td>\n",
              "      <td>573</td>\n",
              "      <td>7</td>\n",
              "      <td>4</td>\n",
              "      <td>2022</td>\n",
              "    </tr>\n",
              "    <tr>\n",
              "      <th>2</th>\n",
              "      <td>Corrida</td>\n",
              "      <td>2022-04-05 19:29:48</td>\n",
              "      <td>False</td>\n",
              "      <td>Jacareí - W16D2-Easy Run</td>\n",
              "      <td>5.00</td>\n",
              "      <td>562</td>\n",
              "      <td>00:37:38</td>\n",
              "      <td>158</td>\n",
              "      <td>200</td>\n",
              "      <td>3.3</td>\n",
              "      <td>...</td>\n",
              "      <td>00:45.23</td>\n",
              "      <td>6</td>\n",
              "      <td>0.0</td>\n",
              "      <td>00:37:37</td>\n",
              "      <td>00:37:38</td>\n",
              "      <td>561</td>\n",
              "      <td>575</td>\n",
              "      <td>5</td>\n",
              "      <td>4</td>\n",
              "      <td>2022</td>\n",
              "    </tr>\n",
              "    <tr>\n",
              "      <th>3</th>\n",
              "      <td>Corrida</td>\n",
              "      <td>2022-04-04 19:28:43</td>\n",
              "      <td>False</td>\n",
              "      <td>Jacareí - W15D7-Long Run</td>\n",
              "      <td>6.73</td>\n",
              "      <td>637</td>\n",
              "      <td>01:05:41</td>\n",
              "      <td>134</td>\n",
              "      <td>176</td>\n",
              "      <td>2.2</td>\n",
              "      <td>...</td>\n",
              "      <td>02:33.41</td>\n",
              "      <td>8</td>\n",
              "      <td>0.0</td>\n",
              "      <td>01:05:39</td>\n",
              "      <td>01:05:41</td>\n",
              "      <td>563</td>\n",
              "      <td>573</td>\n",
              "      <td>4</td>\n",
              "      <td>4</td>\n",
              "      <td>2022</td>\n",
              "    </tr>\n",
              "    <tr>\n",
              "      <th>4</th>\n",
              "      <td>Corrida</td>\n",
              "      <td>2022-03-31 18:55:20</td>\n",
              "      <td>False</td>\n",
              "      <td>W15D2-Steady Run</td>\n",
              "      <td>6.85</td>\n",
              "      <td>724</td>\n",
              "      <td>00:50:29</td>\n",
              "      <td>154</td>\n",
              "      <td>166</td>\n",
              "      <td>3.4</td>\n",
              "      <td>...</td>\n",
              "      <td>06:08.64</td>\n",
              "      <td>7</td>\n",
              "      <td>0.0</td>\n",
              "      <td>00:50:26</td>\n",
              "      <td>00:50:29</td>\n",
              "      <td>568</td>\n",
              "      <td>575</td>\n",
              "      <td>31</td>\n",
              "      <td>3</td>\n",
              "      <td>2022</td>\n",
              "    </tr>\n",
              "  </tbody>\n",
              "</table>\n",
              "<p>5 rows × 36 columns</p>\n",
              "</div>\n",
              "      <button class=\"colab-df-convert\" onclick=\"convertToInteractive('df-762933de-6bdf-4894-979f-9614334cf7f0')\"\n",
              "              title=\"Convert this dataframe to an interactive table.\"\n",
              "              style=\"display:none;\">\n",
              "        \n",
              "  <svg xmlns=\"http://www.w3.org/2000/svg\" height=\"24px\"viewBox=\"0 0 24 24\"\n",
              "       width=\"24px\">\n",
              "    <path d=\"M0 0h24v24H0V0z\" fill=\"none\"/>\n",
              "    <path d=\"M18.56 5.44l.94 2.06.94-2.06 2.06-.94-2.06-.94-.94-2.06-.94 2.06-2.06.94zm-11 1L8.5 8.5l.94-2.06 2.06-.94-2.06-.94L8.5 2.5l-.94 2.06-2.06.94zm10 10l.94 2.06.94-2.06 2.06-.94-2.06-.94-.94-2.06-.94 2.06-2.06.94z\"/><path d=\"M17.41 7.96l-1.37-1.37c-.4-.4-.92-.59-1.43-.59-.52 0-1.04.2-1.43.59L10.3 9.45l-7.72 7.72c-.78.78-.78 2.05 0 2.83L4 21.41c.39.39.9.59 1.41.59.51 0 1.02-.2 1.41-.59l7.78-7.78 2.81-2.81c.8-.78.8-2.07 0-2.86zM5.41 20L4 18.59l7.72-7.72 1.47 1.35L5.41 20z\"/>\n",
              "  </svg>\n",
              "      </button>\n",
              "      \n",
              "  <style>\n",
              "    .colab-df-container {\n",
              "      display:flex;\n",
              "      flex-wrap:wrap;\n",
              "      gap: 12px;\n",
              "    }\n",
              "\n",
              "    .colab-df-convert {\n",
              "      background-color: #E8F0FE;\n",
              "      border: none;\n",
              "      border-radius: 50%;\n",
              "      cursor: pointer;\n",
              "      display: none;\n",
              "      fill: #1967D2;\n",
              "      height: 32px;\n",
              "      padding: 0 0 0 0;\n",
              "      width: 32px;\n",
              "    }\n",
              "\n",
              "    .colab-df-convert:hover {\n",
              "      background-color: #E2EBFA;\n",
              "      box-shadow: 0px 1px 2px rgba(60, 64, 67, 0.3), 0px 1px 3px 1px rgba(60, 64, 67, 0.15);\n",
              "      fill: #174EA6;\n",
              "    }\n",
              "\n",
              "    [theme=dark] .colab-df-convert {\n",
              "      background-color: #3B4455;\n",
              "      fill: #D2E3FC;\n",
              "    }\n",
              "\n",
              "    [theme=dark] .colab-df-convert:hover {\n",
              "      background-color: #434B5C;\n",
              "      box-shadow: 0px 1px 3px 1px rgba(0, 0, 0, 0.15);\n",
              "      filter: drop-shadow(0px 1px 2px rgba(0, 0, 0, 0.3));\n",
              "      fill: #FFFFFF;\n",
              "    }\n",
              "  </style>\n",
              "\n",
              "      <script>\n",
              "        const buttonEl =\n",
              "          document.querySelector('#df-762933de-6bdf-4894-979f-9614334cf7f0 button.colab-df-convert');\n",
              "        buttonEl.style.display =\n",
              "          google.colab.kernel.accessAllowed ? 'block' : 'none';\n",
              "\n",
              "        async function convertToInteractive(key) {\n",
              "          const element = document.querySelector('#df-762933de-6bdf-4894-979f-9614334cf7f0');\n",
              "          const dataTable =\n",
              "            await google.colab.kernel.invokeFunction('convertToInteractive',\n",
              "                                                     [key], {});\n",
              "          if (!dataTable) return;\n",
              "\n",
              "          const docLinkHtml = 'Like what you see? Visit the ' +\n",
              "            '<a target=\"_blank\" href=https://colab.research.google.com/notebooks/data_table.ipynb>data table notebook</a>'\n",
              "            + ' to learn more about interactive tables.';\n",
              "          element.innerHTML = '';\n",
              "          dataTable['output_type'] = 'display_data';\n",
              "          await google.colab.output.renderOutput(dataTable, element);\n",
              "          const docLink = document.createElement('div');\n",
              "          docLink.innerHTML = docLinkHtml;\n",
              "          element.appendChild(docLink);\n",
              "        }\n",
              "      </script>\n",
              "    </div>\n",
              "  </div>\n",
              "  "
            ]
          },
          "metadata": {},
          "execution_count": 13
        }
      ]
    },
    {
      "cell_type": "code",
      "source": [
        "basis[\"Day_of_Week\"]= basis[\"Data\"].dt.dayofweek"
      ],
      "metadata": {
        "id": "-pTeOv4wsIik"
      },
      "execution_count": null,
      "outputs": []
    },
    {
      "cell_type": "code",
      "source": [
        "dw_mapping={\n",
        "    0: 'Monday', \n",
        "    1: 'Tuesday', \n",
        "    2: 'Wednesday', \n",
        "    3: 'Thursday', \n",
        "    4: 'Friday',\n",
        "    5: 'Saturday', \n",
        "    6: 'Sunday'\n",
        "} \n",
        "basis[\"Day_of_Week\"]=basis[\"Day_of_Week\"].map(dw_mapping)"
      ],
      "metadata": {
        "id": "_DZuc4F1sIgF"
      },
      "execution_count": null,
      "outputs": []
    },
    {
      "cell_type": "code",
      "source": [
        "basis.head()"
      ],
      "metadata": {
        "colab": {
          "base_uri": "https://localhost:8080/",
          "height": 384
        },
        "id": "IJNrFphMsIdu",
        "outputId": "98313202-547e-4530-ccc1-0f6d1a0b60e8"
      },
      "execution_count": null,
      "outputs": [
        {
          "output_type": "execute_result",
          "data": {
            "text/plain": [
              "  Tipo de atividade                Data  Favorito  \\\n",
              "0           Corrida 2022-04-10 06:29:56     False   \n",
              "1           Corrida 2022-04-07 20:45:35     False   \n",
              "2           Corrida 2022-04-05 19:29:48     False   \n",
              "3           Corrida 2022-04-04 19:28:43     False   \n",
              "4           Corrida 2022-03-31 18:55:20     False   \n",
              "\n",
              "                            Título  Distância Calorias     Tempo FC Média  \\\n",
              "0  São Paulo - W16D7-HALF MARATHON      21.10    2,208  02:31:19      164   \n",
              "1         Jacareí - W16D4-Easy Run       3.71      414  00:30:14      147   \n",
              "2         Jacareí - W16D2-Easy Run       5.00      562  00:37:38      158   \n",
              "3         Jacareí - W15D7-Long Run       6.73      637  01:05:41      134   \n",
              "4                 W15D2-Steady Run       6.85      724  00:50:29      154   \n",
              "\n",
              "  FC máxima Training Effect Aeróbico  ...  Número de voltas  Temp máxima  \\\n",
              "0       181                      4.0  ...                23          0.0   \n",
              "1       164                      2.7  ...                 5          0.0   \n",
              "2       200                      3.3  ...                 6          0.0   \n",
              "3       176                      2.2  ...                 8          0.0   \n",
              "4       166                      3.4  ...                 7          0.0   \n",
              "\n",
              "  Tempo em movimento   Duração Elevação mínima Elevação máxima  Day  Month  \\\n",
              "0           02:31:15  02:33:24             689             776   10      4   \n",
              "1           00:30:12  00:30:14             563             573    7      4   \n",
              "2           00:37:37  00:37:38             561             575    5      4   \n",
              "3           01:05:39  01:05:41             563             573    4      4   \n",
              "4           00:50:26  00:50:29             568             575   31      3   \n",
              "\n",
              "   Year  Day_of_Week  \n",
              "0  2022       Sunday  \n",
              "1  2022     Thursday  \n",
              "2  2022      Tuesday  \n",
              "3  2022       Monday  \n",
              "4  2022     Thursday  \n",
              "\n",
              "[5 rows x 37 columns]"
            ],
            "text/html": [
              "\n",
              "  <div id=\"df-a95006d9-39c9-4efa-9f0a-b81d4785a900\">\n",
              "    <div class=\"colab-df-container\">\n",
              "      <div>\n",
              "<style scoped>\n",
              "    .dataframe tbody tr th:only-of-type {\n",
              "        vertical-align: middle;\n",
              "    }\n",
              "\n",
              "    .dataframe tbody tr th {\n",
              "        vertical-align: top;\n",
              "    }\n",
              "\n",
              "    .dataframe thead th {\n",
              "        text-align: right;\n",
              "    }\n",
              "</style>\n",
              "<table border=\"1\" class=\"dataframe\">\n",
              "  <thead>\n",
              "    <tr style=\"text-align: right;\">\n",
              "      <th></th>\n",
              "      <th>Tipo de atividade</th>\n",
              "      <th>Data</th>\n",
              "      <th>Favorito</th>\n",
              "      <th>Título</th>\n",
              "      <th>Distância</th>\n",
              "      <th>Calorias</th>\n",
              "      <th>Tempo</th>\n",
              "      <th>FC Média</th>\n",
              "      <th>FC máxima</th>\n",
              "      <th>Training Effect Aeróbico</th>\n",
              "      <th>...</th>\n",
              "      <th>Número de voltas</th>\n",
              "      <th>Temp máxima</th>\n",
              "      <th>Tempo em movimento</th>\n",
              "      <th>Duração</th>\n",
              "      <th>Elevação mínima</th>\n",
              "      <th>Elevação máxima</th>\n",
              "      <th>Day</th>\n",
              "      <th>Month</th>\n",
              "      <th>Year</th>\n",
              "      <th>Day_of_Week</th>\n",
              "    </tr>\n",
              "  </thead>\n",
              "  <tbody>\n",
              "    <tr>\n",
              "      <th>0</th>\n",
              "      <td>Corrida</td>\n",
              "      <td>2022-04-10 06:29:56</td>\n",
              "      <td>False</td>\n",
              "      <td>São Paulo - W16D7-HALF MARATHON</td>\n",
              "      <td>21.10</td>\n",
              "      <td>2,208</td>\n",
              "      <td>02:31:19</td>\n",
              "      <td>164</td>\n",
              "      <td>181</td>\n",
              "      <td>4.0</td>\n",
              "      <td>...</td>\n",
              "      <td>23</td>\n",
              "      <td>0.0</td>\n",
              "      <td>02:31:15</td>\n",
              "      <td>02:33:24</td>\n",
              "      <td>689</td>\n",
              "      <td>776</td>\n",
              "      <td>10</td>\n",
              "      <td>4</td>\n",
              "      <td>2022</td>\n",
              "      <td>Sunday</td>\n",
              "    </tr>\n",
              "    <tr>\n",
              "      <th>1</th>\n",
              "      <td>Corrida</td>\n",
              "      <td>2022-04-07 20:45:35</td>\n",
              "      <td>False</td>\n",
              "      <td>Jacareí - W16D4-Easy Run</td>\n",
              "      <td>3.71</td>\n",
              "      <td>414</td>\n",
              "      <td>00:30:14</td>\n",
              "      <td>147</td>\n",
              "      <td>164</td>\n",
              "      <td>2.7</td>\n",
              "      <td>...</td>\n",
              "      <td>5</td>\n",
              "      <td>0.0</td>\n",
              "      <td>00:30:12</td>\n",
              "      <td>00:30:14</td>\n",
              "      <td>563</td>\n",
              "      <td>573</td>\n",
              "      <td>7</td>\n",
              "      <td>4</td>\n",
              "      <td>2022</td>\n",
              "      <td>Thursday</td>\n",
              "    </tr>\n",
              "    <tr>\n",
              "      <th>2</th>\n",
              "      <td>Corrida</td>\n",
              "      <td>2022-04-05 19:29:48</td>\n",
              "      <td>False</td>\n",
              "      <td>Jacareí - W16D2-Easy Run</td>\n",
              "      <td>5.00</td>\n",
              "      <td>562</td>\n",
              "      <td>00:37:38</td>\n",
              "      <td>158</td>\n",
              "      <td>200</td>\n",
              "      <td>3.3</td>\n",
              "      <td>...</td>\n",
              "      <td>6</td>\n",
              "      <td>0.0</td>\n",
              "      <td>00:37:37</td>\n",
              "      <td>00:37:38</td>\n",
              "      <td>561</td>\n",
              "      <td>575</td>\n",
              "      <td>5</td>\n",
              "      <td>4</td>\n",
              "      <td>2022</td>\n",
              "      <td>Tuesday</td>\n",
              "    </tr>\n",
              "    <tr>\n",
              "      <th>3</th>\n",
              "      <td>Corrida</td>\n",
              "      <td>2022-04-04 19:28:43</td>\n",
              "      <td>False</td>\n",
              "      <td>Jacareí - W15D7-Long Run</td>\n",
              "      <td>6.73</td>\n",
              "      <td>637</td>\n",
              "      <td>01:05:41</td>\n",
              "      <td>134</td>\n",
              "      <td>176</td>\n",
              "      <td>2.2</td>\n",
              "      <td>...</td>\n",
              "      <td>8</td>\n",
              "      <td>0.0</td>\n",
              "      <td>01:05:39</td>\n",
              "      <td>01:05:41</td>\n",
              "      <td>563</td>\n",
              "      <td>573</td>\n",
              "      <td>4</td>\n",
              "      <td>4</td>\n",
              "      <td>2022</td>\n",
              "      <td>Monday</td>\n",
              "    </tr>\n",
              "    <tr>\n",
              "      <th>4</th>\n",
              "      <td>Corrida</td>\n",
              "      <td>2022-03-31 18:55:20</td>\n",
              "      <td>False</td>\n",
              "      <td>W15D2-Steady Run</td>\n",
              "      <td>6.85</td>\n",
              "      <td>724</td>\n",
              "      <td>00:50:29</td>\n",
              "      <td>154</td>\n",
              "      <td>166</td>\n",
              "      <td>3.4</td>\n",
              "      <td>...</td>\n",
              "      <td>7</td>\n",
              "      <td>0.0</td>\n",
              "      <td>00:50:26</td>\n",
              "      <td>00:50:29</td>\n",
              "      <td>568</td>\n",
              "      <td>575</td>\n",
              "      <td>31</td>\n",
              "      <td>3</td>\n",
              "      <td>2022</td>\n",
              "      <td>Thursday</td>\n",
              "    </tr>\n",
              "  </tbody>\n",
              "</table>\n",
              "<p>5 rows × 37 columns</p>\n",
              "</div>\n",
              "      <button class=\"colab-df-convert\" onclick=\"convertToInteractive('df-a95006d9-39c9-4efa-9f0a-b81d4785a900')\"\n",
              "              title=\"Convert this dataframe to an interactive table.\"\n",
              "              style=\"display:none;\">\n",
              "        \n",
              "  <svg xmlns=\"http://www.w3.org/2000/svg\" height=\"24px\"viewBox=\"0 0 24 24\"\n",
              "       width=\"24px\">\n",
              "    <path d=\"M0 0h24v24H0V0z\" fill=\"none\"/>\n",
              "    <path d=\"M18.56 5.44l.94 2.06.94-2.06 2.06-.94-2.06-.94-.94-2.06-.94 2.06-2.06.94zm-11 1L8.5 8.5l.94-2.06 2.06-.94-2.06-.94L8.5 2.5l-.94 2.06-2.06.94zm10 10l.94 2.06.94-2.06 2.06-.94-2.06-.94-.94-2.06-.94 2.06-2.06.94z\"/><path d=\"M17.41 7.96l-1.37-1.37c-.4-.4-.92-.59-1.43-.59-.52 0-1.04.2-1.43.59L10.3 9.45l-7.72 7.72c-.78.78-.78 2.05 0 2.83L4 21.41c.39.39.9.59 1.41.59.51 0 1.02-.2 1.41-.59l7.78-7.78 2.81-2.81c.8-.78.8-2.07 0-2.86zM5.41 20L4 18.59l7.72-7.72 1.47 1.35L5.41 20z\"/>\n",
              "  </svg>\n",
              "      </button>\n",
              "      \n",
              "  <style>\n",
              "    .colab-df-container {\n",
              "      display:flex;\n",
              "      flex-wrap:wrap;\n",
              "      gap: 12px;\n",
              "    }\n",
              "\n",
              "    .colab-df-convert {\n",
              "      background-color: #E8F0FE;\n",
              "      border: none;\n",
              "      border-radius: 50%;\n",
              "      cursor: pointer;\n",
              "      display: none;\n",
              "      fill: #1967D2;\n",
              "      height: 32px;\n",
              "      padding: 0 0 0 0;\n",
              "      width: 32px;\n",
              "    }\n",
              "\n",
              "    .colab-df-convert:hover {\n",
              "      background-color: #E2EBFA;\n",
              "      box-shadow: 0px 1px 2px rgba(60, 64, 67, 0.3), 0px 1px 3px 1px rgba(60, 64, 67, 0.15);\n",
              "      fill: #174EA6;\n",
              "    }\n",
              "\n",
              "    [theme=dark] .colab-df-convert {\n",
              "      background-color: #3B4455;\n",
              "      fill: #D2E3FC;\n",
              "    }\n",
              "\n",
              "    [theme=dark] .colab-df-convert:hover {\n",
              "      background-color: #434B5C;\n",
              "      box-shadow: 0px 1px 3px 1px rgba(0, 0, 0, 0.15);\n",
              "      filter: drop-shadow(0px 1px 2px rgba(0, 0, 0, 0.3));\n",
              "      fill: #FFFFFF;\n",
              "    }\n",
              "  </style>\n",
              "\n",
              "      <script>\n",
              "        const buttonEl =\n",
              "          document.querySelector('#df-a95006d9-39c9-4efa-9f0a-b81d4785a900 button.colab-df-convert');\n",
              "        buttonEl.style.display =\n",
              "          google.colab.kernel.accessAllowed ? 'block' : 'none';\n",
              "\n",
              "        async function convertToInteractive(key) {\n",
              "          const element = document.querySelector('#df-a95006d9-39c9-4efa-9f0a-b81d4785a900');\n",
              "          const dataTable =\n",
              "            await google.colab.kernel.invokeFunction('convertToInteractive',\n",
              "                                                     [key], {});\n",
              "          if (!dataTable) return;\n",
              "\n",
              "          const docLinkHtml = 'Like what you see? Visit the ' +\n",
              "            '<a target=\"_blank\" href=https://colab.research.google.com/notebooks/data_table.ipynb>data table notebook</a>'\n",
              "            + ' to learn more about interactive tables.';\n",
              "          element.innerHTML = '';\n",
              "          dataTable['output_type'] = 'display_data';\n",
              "          await google.colab.output.renderOutput(dataTable, element);\n",
              "          const docLink = document.createElement('div');\n",
              "          docLink.innerHTML = docLinkHtml;\n",
              "          element.appendChild(docLink);\n",
              "        }\n",
              "      </script>\n",
              "    </div>\n",
              "  </div>\n",
              "  "
            ]
          },
          "metadata": {},
          "execution_count": 16
        }
      ]
    },
    {
      "cell_type": "markdown",
      "source": [
        "## Time Data"
      ],
      "metadata": {
        "id": "jIex2ssTswyk"
      }
    },
    {
      "cell_type": "code",
      "source": [
        "list(map(int,basis[\"Tempo\"][0].split(sep=\":\")))"
      ],
      "metadata": {
        "colab": {
          "base_uri": "https://localhost:8080/"
        },
        "id": "bBZUw43cM5m4",
        "outputId": "63f8c300-ad85-457b-ef63-d6e3ecc2dc36"
      },
      "execution_count": null,
      "outputs": [
        {
          "output_type": "execute_result",
          "data": {
            "text/plain": [
              "[2, 31, 19]"
            ]
          },
          "metadata": {},
          "execution_count": 17
        }
      ]
    },
    {
      "cell_type": "code",
      "source": [
        "basis[\"Tempo_new\"] = basis[\"Tempo\"].apply(lambda x:list(map(int,x.split(sep=\":\"))))"
      ],
      "metadata": {
        "id": "QkyDwaqb3BAN"
      },
      "execution_count": null,
      "outputs": []
    },
    {
      "cell_type": "code",
      "source": [
        "(basis[\"Tempo_new\"][0][0]*60)+(basis[\"Tempo_new\"][0][1])+(basis[\"Tempo_new\"][0][2]/60)"
      ],
      "metadata": {
        "colab": {
          "base_uri": "https://localhost:8080/"
        },
        "id": "zNyRku3_4rze",
        "outputId": "3a1ed893-3505-4898-c8de-84a2014f0e33"
      },
      "execution_count": null,
      "outputs": [
        {
          "output_type": "execute_result",
          "data": {
            "text/plain": [
              "151.31666666666666"
            ]
          },
          "metadata": {},
          "execution_count": 19
        }
      ]
    },
    {
      "cell_type": "code",
      "source": [
        "basis[\"Tempo_new\"] = basis[\"Tempo_new\"].apply(lambda x: (x[0]*60)+(x[1])+(x[2]/60))"
      ],
      "metadata": {
        "id": "9RvmLZN-5lrH"
      },
      "execution_count": null,
      "outputs": []
    },
    {
      "cell_type": "code",
      "source": [
        "list(map(int,basis[\"Ritmo médio\"][0].split(sep=\":\")))"
      ],
      "metadata": {
        "colab": {
          "base_uri": "https://localhost:8080/"
        },
        "id": "HZnGEFh-U05u",
        "outputId": "c4aa2c9a-cbb6-4869-bf13-125d04325f55"
      },
      "execution_count": null,
      "outputs": [
        {
          "output_type": "execute_result",
          "data": {
            "text/plain": [
              "[7, 10]"
            ]
          },
          "metadata": {},
          "execution_count": 21
        }
      ]
    },
    {
      "cell_type": "code",
      "source": [
        "basis[\"Ritmo médio_new\"] = basis[\"Ritmo médio\"].apply(lambda x:list(map(int,x.split(sep=\":\"))))"
      ],
      "metadata": {
        "id": "1cgp7il_VMWR"
      },
      "execution_count": null,
      "outputs": []
    },
    {
      "cell_type": "code",
      "source": [
        "(basis[\"Ritmo médio_new\"][0][0])+(basis[\"Ritmo médio_new\"][0][1]/60)"
      ],
      "metadata": {
        "colab": {
          "base_uri": "https://localhost:8080/"
        },
        "id": "y4Kaf6AGVSlw",
        "outputId": "ecb0b352-1c52-4543-86e3-a9b7ace107ed"
      },
      "execution_count": null,
      "outputs": [
        {
          "output_type": "execute_result",
          "data": {
            "text/plain": [
              "7.166666666666667"
            ]
          },
          "metadata": {},
          "execution_count": 23
        }
      ]
    },
    {
      "cell_type": "code",
      "source": [
        "basis[\"Ritmo médio_new\"] = basis[\"Ritmo médio_new\"].apply(lambda x: (x[0])+(x[1]/60))"
      ],
      "metadata": {
        "id": "TJvmS2MwVSrf"
      },
      "execution_count": null,
      "outputs": []
    },
    {
      "cell_type": "code",
      "source": [
        "list(map(int,basis[\"FC Média\"][0].split()))"
      ],
      "metadata": {
        "colab": {
          "base_uri": "https://localhost:8080/"
        },
        "id": "HiqHNOc7pJb7",
        "outputId": "6457c821-8f64-4996-dfdd-c884391b4b9c"
      },
      "execution_count": null,
      "outputs": [
        {
          "output_type": "execute_result",
          "data": {
            "text/plain": [
              "[164]"
            ]
          },
          "metadata": {},
          "execution_count": 25
        }
      ]
    },
    {
      "cell_type": "code",
      "source": [
        "basis[\"FC Média\"] = basis[\"FC Média\"].drop([29])"
      ],
      "metadata": {
        "id": "VfW1cQ9IMYop"
      },
      "execution_count": null,
      "outputs": []
    },
    {
      "cell_type": "code",
      "source": [
        "basis[\"FC Média\"] = pd.to_numeric(basis[\"FC Média\"])"
      ],
      "metadata": {
        "id": "qMZLjxwfpJtR"
      },
      "execution_count": null,
      "outputs": []
    },
    {
      "cell_type": "code",
      "source": [
        "basis[\"FC Média\"][29] = basis[\"FC Média\"].mean()"
      ],
      "metadata": {
        "colab": {
          "base_uri": "https://localhost:8080/"
        },
        "id": "3W7mmaQIM-Ou",
        "outputId": "1c98a79b-9dab-4827-ace9-e10759b41d51"
      },
      "execution_count": null,
      "outputs": [
        {
          "output_type": "stream",
          "name": "stderr",
          "text": [
            "/usr/local/lib/python3.7/dist-packages/ipykernel_launcher.py:1: SettingWithCopyWarning: \n",
            "A value is trying to be set on a copy of a slice from a DataFrame\n",
            "\n",
            "See the caveats in the documentation: https://pandas.pydata.org/pandas-docs/stable/user_guide/indexing.html#returning-a-view-versus-a-copy\n",
            "  \"\"\"Entry point for launching an IPython kernel.\n"
          ]
        }
      ]
    },
    {
      "cell_type": "code",
      "source": [
        "basis[\"Training Effect Aeróbico\"] = basis[\"Training Effect Aeróbico\"].drop([29])"
      ],
      "metadata": {
        "id": "IwJETXHFw3Qc"
      },
      "execution_count": null,
      "outputs": []
    },
    {
      "cell_type": "code",
      "source": [
        "basis[\"Training_Zone\"] = pd.to_numeric(basis[\"Training Effect Aeróbico\"])"
      ],
      "metadata": {
        "id": "ALNfMVWLwspz"
      },
      "execution_count": null,
      "outputs": []
    },
    {
      "cell_type": "code",
      "source": [
        "basis[\"Training_Zone\"][29] =pd.to_numeric(basis[\"Training Effect Aeróbico\"]).mean()"
      ],
      "metadata": {
        "colab": {
          "base_uri": "https://localhost:8080/"
        },
        "id": "SzJsk7z-wsm7",
        "outputId": "5bd44ede-a604-4cf5-a4e1-e5ecf0879b86"
      },
      "execution_count": null,
      "outputs": [
        {
          "output_type": "stream",
          "name": "stderr",
          "text": [
            "/usr/local/lib/python3.7/dist-packages/ipykernel_launcher.py:1: SettingWithCopyWarning: \n",
            "A value is trying to be set on a copy of a slice from a DataFrame\n",
            "\n",
            "See the caveats in the documentation: https://pandas.pydata.org/pandas-docs/stable/user_guide/indexing.html#returning-a-view-versus-a-copy\n",
            "  \"\"\"Entry point for launching an IPython kernel.\n"
          ]
        }
      ]
    },
    {
      "cell_type": "code",
      "source": [
        "df = basis[[\"Distância\", \"Tempo_new\", \"Ritmo médio_new\",\"FC Média\",\"Training_Zone\", \"Day_of_Week\",\"Cadência de corrida média\",\"Comprimento médio da passada\", ]]"
      ],
      "metadata": {
        "id": "dvsMvsiR6-Di"
      },
      "execution_count": null,
      "outputs": []
    },
    {
      "cell_type": "code",
      "source": [
        "df.head()"
      ],
      "metadata": {
        "colab": {
          "base_uri": "https://localhost:8080/",
          "height": 206
        },
        "id": "To_ce1zIui6d",
        "outputId": "12c1bc47-3faa-4067-e244-ffc1834601e6"
      },
      "execution_count": null,
      "outputs": [
        {
          "output_type": "execute_result",
          "data": {
            "text/plain": [
              "   Distância   Tempo_new  Ritmo médio_new  FC Média  Training_Zone  \\\n",
              "0      21.10  151.316667         7.166667     164.0            4.0   \n",
              "1       3.71   30.233333         8.150000     147.0            2.7   \n",
              "2       5.00   37.633333         7.516667     158.0            3.3   \n",
              "3       6.73   65.683333         9.750000     134.0            2.2   \n",
              "4       6.85   50.483333         7.366667     154.0            3.4   \n",
              "\n",
              "  Day_of_Week  Cadência de corrida média  Comprimento médio da passada  \n",
              "0      Sunday                        162                          0.86  \n",
              "1    Thursday                        158                          0.78  \n",
              "2     Tuesday                        159                          0.83  \n",
              "3      Monday                        139                          0.74  \n",
              "4    Thursday                        160                          0.85  "
            ],
            "text/html": [
              "\n",
              "  <div id=\"df-83406c44-0cd9-41f5-8397-79b3079a5862\">\n",
              "    <div class=\"colab-df-container\">\n",
              "      <div>\n",
              "<style scoped>\n",
              "    .dataframe tbody tr th:only-of-type {\n",
              "        vertical-align: middle;\n",
              "    }\n",
              "\n",
              "    .dataframe tbody tr th {\n",
              "        vertical-align: top;\n",
              "    }\n",
              "\n",
              "    .dataframe thead th {\n",
              "        text-align: right;\n",
              "    }\n",
              "</style>\n",
              "<table border=\"1\" class=\"dataframe\">\n",
              "  <thead>\n",
              "    <tr style=\"text-align: right;\">\n",
              "      <th></th>\n",
              "      <th>Distância</th>\n",
              "      <th>Tempo_new</th>\n",
              "      <th>Ritmo médio_new</th>\n",
              "      <th>FC Média</th>\n",
              "      <th>Training_Zone</th>\n",
              "      <th>Day_of_Week</th>\n",
              "      <th>Cadência de corrida média</th>\n",
              "      <th>Comprimento médio da passada</th>\n",
              "    </tr>\n",
              "  </thead>\n",
              "  <tbody>\n",
              "    <tr>\n",
              "      <th>0</th>\n",
              "      <td>21.10</td>\n",
              "      <td>151.316667</td>\n",
              "      <td>7.166667</td>\n",
              "      <td>164.0</td>\n",
              "      <td>4.0</td>\n",
              "      <td>Sunday</td>\n",
              "      <td>162</td>\n",
              "      <td>0.86</td>\n",
              "    </tr>\n",
              "    <tr>\n",
              "      <th>1</th>\n",
              "      <td>3.71</td>\n",
              "      <td>30.233333</td>\n",
              "      <td>8.150000</td>\n",
              "      <td>147.0</td>\n",
              "      <td>2.7</td>\n",
              "      <td>Thursday</td>\n",
              "      <td>158</td>\n",
              "      <td>0.78</td>\n",
              "    </tr>\n",
              "    <tr>\n",
              "      <th>2</th>\n",
              "      <td>5.00</td>\n",
              "      <td>37.633333</td>\n",
              "      <td>7.516667</td>\n",
              "      <td>158.0</td>\n",
              "      <td>3.3</td>\n",
              "      <td>Tuesday</td>\n",
              "      <td>159</td>\n",
              "      <td>0.83</td>\n",
              "    </tr>\n",
              "    <tr>\n",
              "      <th>3</th>\n",
              "      <td>6.73</td>\n",
              "      <td>65.683333</td>\n",
              "      <td>9.750000</td>\n",
              "      <td>134.0</td>\n",
              "      <td>2.2</td>\n",
              "      <td>Monday</td>\n",
              "      <td>139</td>\n",
              "      <td>0.74</td>\n",
              "    </tr>\n",
              "    <tr>\n",
              "      <th>4</th>\n",
              "      <td>6.85</td>\n",
              "      <td>50.483333</td>\n",
              "      <td>7.366667</td>\n",
              "      <td>154.0</td>\n",
              "      <td>3.4</td>\n",
              "      <td>Thursday</td>\n",
              "      <td>160</td>\n",
              "      <td>0.85</td>\n",
              "    </tr>\n",
              "  </tbody>\n",
              "</table>\n",
              "</div>\n",
              "      <button class=\"colab-df-convert\" onclick=\"convertToInteractive('df-83406c44-0cd9-41f5-8397-79b3079a5862')\"\n",
              "              title=\"Convert this dataframe to an interactive table.\"\n",
              "              style=\"display:none;\">\n",
              "        \n",
              "  <svg xmlns=\"http://www.w3.org/2000/svg\" height=\"24px\"viewBox=\"0 0 24 24\"\n",
              "       width=\"24px\">\n",
              "    <path d=\"M0 0h24v24H0V0z\" fill=\"none\"/>\n",
              "    <path d=\"M18.56 5.44l.94 2.06.94-2.06 2.06-.94-2.06-.94-.94-2.06-.94 2.06-2.06.94zm-11 1L8.5 8.5l.94-2.06 2.06-.94-2.06-.94L8.5 2.5l-.94 2.06-2.06.94zm10 10l.94 2.06.94-2.06 2.06-.94-2.06-.94-.94-2.06-.94 2.06-2.06.94z\"/><path d=\"M17.41 7.96l-1.37-1.37c-.4-.4-.92-.59-1.43-.59-.52 0-1.04.2-1.43.59L10.3 9.45l-7.72 7.72c-.78.78-.78 2.05 0 2.83L4 21.41c.39.39.9.59 1.41.59.51 0 1.02-.2 1.41-.59l7.78-7.78 2.81-2.81c.8-.78.8-2.07 0-2.86zM5.41 20L4 18.59l7.72-7.72 1.47 1.35L5.41 20z\"/>\n",
              "  </svg>\n",
              "      </button>\n",
              "      \n",
              "  <style>\n",
              "    .colab-df-container {\n",
              "      display:flex;\n",
              "      flex-wrap:wrap;\n",
              "      gap: 12px;\n",
              "    }\n",
              "\n",
              "    .colab-df-convert {\n",
              "      background-color: #E8F0FE;\n",
              "      border: none;\n",
              "      border-radius: 50%;\n",
              "      cursor: pointer;\n",
              "      display: none;\n",
              "      fill: #1967D2;\n",
              "      height: 32px;\n",
              "      padding: 0 0 0 0;\n",
              "      width: 32px;\n",
              "    }\n",
              "\n",
              "    .colab-df-convert:hover {\n",
              "      background-color: #E2EBFA;\n",
              "      box-shadow: 0px 1px 2px rgba(60, 64, 67, 0.3), 0px 1px 3px 1px rgba(60, 64, 67, 0.15);\n",
              "      fill: #174EA6;\n",
              "    }\n",
              "\n",
              "    [theme=dark] .colab-df-convert {\n",
              "      background-color: #3B4455;\n",
              "      fill: #D2E3FC;\n",
              "    }\n",
              "\n",
              "    [theme=dark] .colab-df-convert:hover {\n",
              "      background-color: #434B5C;\n",
              "      box-shadow: 0px 1px 3px 1px rgba(0, 0, 0, 0.15);\n",
              "      filter: drop-shadow(0px 1px 2px rgba(0, 0, 0, 0.3));\n",
              "      fill: #FFFFFF;\n",
              "    }\n",
              "  </style>\n",
              "\n",
              "      <script>\n",
              "        const buttonEl =\n",
              "          document.querySelector('#df-83406c44-0cd9-41f5-8397-79b3079a5862 button.colab-df-convert');\n",
              "        buttonEl.style.display =\n",
              "          google.colab.kernel.accessAllowed ? 'block' : 'none';\n",
              "\n",
              "        async function convertToInteractive(key) {\n",
              "          const element = document.querySelector('#df-83406c44-0cd9-41f5-8397-79b3079a5862');\n",
              "          const dataTable =\n",
              "            await google.colab.kernel.invokeFunction('convertToInteractive',\n",
              "                                                     [key], {});\n",
              "          if (!dataTable) return;\n",
              "\n",
              "          const docLinkHtml = 'Like what you see? Visit the ' +\n",
              "            '<a target=\"_blank\" href=https://colab.research.google.com/notebooks/data_table.ipynb>data table notebook</a>'\n",
              "            + ' to learn more about interactive tables.';\n",
              "          element.innerHTML = '';\n",
              "          dataTable['output_type'] = 'display_data';\n",
              "          await google.colab.output.renderOutput(dataTable, element);\n",
              "          const docLink = document.createElement('div');\n",
              "          docLink.innerHTML = docLinkHtml;\n",
              "          element.appendChild(docLink);\n",
              "        }\n",
              "      </script>\n",
              "    </div>\n",
              "  </div>\n",
              "  "
            ]
          },
          "metadata": {},
          "execution_count": 33
        }
      ]
    },
    {
      "cell_type": "markdown",
      "source": [
        "## Exploratory Data Analysis"
      ],
      "metadata": {
        "id": "UPcXjgkMytdN"
      }
    },
    {
      "cell_type": "code",
      "source": [
        "df.corr()"
      ],
      "metadata": {
        "colab": {
          "base_uri": "https://localhost:8080/",
          "height": 269
        },
        "id": "CHemhlDGYiVs",
        "outputId": "104213d9-4787-44ed-d45a-3243edd28572"
      },
      "execution_count": null,
      "outputs": [
        {
          "output_type": "execute_result",
          "data": {
            "text/plain": [
              "                              Distância  Tempo_new  Ritmo médio_new  FC Média  \\\n",
              "Distância                      1.000000   0.962740        -0.362104  0.487785   \n",
              "Tempo_new                      0.962740   1.000000        -0.125979  0.323302   \n",
              "Ritmo médio_new               -0.362104  -0.125979         1.000000 -0.735365   \n",
              "FC Média                       0.487785   0.323302        -0.735365  1.000000   \n",
              "Training_Zone                  0.639443   0.500725        -0.705782  0.889281   \n",
              "Cadência de corrida média      0.330031   0.108624        -0.868987  0.764246   \n",
              "Comprimento médio da passada   0.295869   0.072163        -0.914983  0.610618   \n",
              "\n",
              "                              Training_Zone  Cadência de corrida média  \\\n",
              "Distância                          0.639443                   0.330031   \n",
              "Tempo_new                          0.500725                   0.108624   \n",
              "Ritmo médio_new                   -0.705782                  -0.868987   \n",
              "FC Média                           0.889281                   0.764246   \n",
              "Training_Zone                      1.000000                   0.676130   \n",
              "Cadência de corrida média          0.676130                   1.000000   \n",
              "Comprimento médio da passada       0.617039                   0.633659   \n",
              "\n",
              "                              Comprimento médio da passada  \n",
              "Distância                                         0.295869  \n",
              "Tempo_new                                         0.072163  \n",
              "Ritmo médio_new                                  -0.914983  \n",
              "FC Média                                          0.610618  \n",
              "Training_Zone                                     0.617039  \n",
              "Cadência de corrida média                         0.633659  \n",
              "Comprimento médio da passada                      1.000000  "
            ],
            "text/html": [
              "\n",
              "  <div id=\"df-e81eb756-6385-4f57-a481-a79684bc7bc3\">\n",
              "    <div class=\"colab-df-container\">\n",
              "      <div>\n",
              "<style scoped>\n",
              "    .dataframe tbody tr th:only-of-type {\n",
              "        vertical-align: middle;\n",
              "    }\n",
              "\n",
              "    .dataframe tbody tr th {\n",
              "        vertical-align: top;\n",
              "    }\n",
              "\n",
              "    .dataframe thead th {\n",
              "        text-align: right;\n",
              "    }\n",
              "</style>\n",
              "<table border=\"1\" class=\"dataframe\">\n",
              "  <thead>\n",
              "    <tr style=\"text-align: right;\">\n",
              "      <th></th>\n",
              "      <th>Distância</th>\n",
              "      <th>Tempo_new</th>\n",
              "      <th>Ritmo médio_new</th>\n",
              "      <th>FC Média</th>\n",
              "      <th>Training_Zone</th>\n",
              "      <th>Cadência de corrida média</th>\n",
              "      <th>Comprimento médio da passada</th>\n",
              "    </tr>\n",
              "  </thead>\n",
              "  <tbody>\n",
              "    <tr>\n",
              "      <th>Distância</th>\n",
              "      <td>1.000000</td>\n",
              "      <td>0.962740</td>\n",
              "      <td>-0.362104</td>\n",
              "      <td>0.487785</td>\n",
              "      <td>0.639443</td>\n",
              "      <td>0.330031</td>\n",
              "      <td>0.295869</td>\n",
              "    </tr>\n",
              "    <tr>\n",
              "      <th>Tempo_new</th>\n",
              "      <td>0.962740</td>\n",
              "      <td>1.000000</td>\n",
              "      <td>-0.125979</td>\n",
              "      <td>0.323302</td>\n",
              "      <td>0.500725</td>\n",
              "      <td>0.108624</td>\n",
              "      <td>0.072163</td>\n",
              "    </tr>\n",
              "    <tr>\n",
              "      <th>Ritmo médio_new</th>\n",
              "      <td>-0.362104</td>\n",
              "      <td>-0.125979</td>\n",
              "      <td>1.000000</td>\n",
              "      <td>-0.735365</td>\n",
              "      <td>-0.705782</td>\n",
              "      <td>-0.868987</td>\n",
              "      <td>-0.914983</td>\n",
              "    </tr>\n",
              "    <tr>\n",
              "      <th>FC Média</th>\n",
              "      <td>0.487785</td>\n",
              "      <td>0.323302</td>\n",
              "      <td>-0.735365</td>\n",
              "      <td>1.000000</td>\n",
              "      <td>0.889281</td>\n",
              "      <td>0.764246</td>\n",
              "      <td>0.610618</td>\n",
              "    </tr>\n",
              "    <tr>\n",
              "      <th>Training_Zone</th>\n",
              "      <td>0.639443</td>\n",
              "      <td>0.500725</td>\n",
              "      <td>-0.705782</td>\n",
              "      <td>0.889281</td>\n",
              "      <td>1.000000</td>\n",
              "      <td>0.676130</td>\n",
              "      <td>0.617039</td>\n",
              "    </tr>\n",
              "    <tr>\n",
              "      <th>Cadência de corrida média</th>\n",
              "      <td>0.330031</td>\n",
              "      <td>0.108624</td>\n",
              "      <td>-0.868987</td>\n",
              "      <td>0.764246</td>\n",
              "      <td>0.676130</td>\n",
              "      <td>1.000000</td>\n",
              "      <td>0.633659</td>\n",
              "    </tr>\n",
              "    <tr>\n",
              "      <th>Comprimento médio da passada</th>\n",
              "      <td>0.295869</td>\n",
              "      <td>0.072163</td>\n",
              "      <td>-0.914983</td>\n",
              "      <td>0.610618</td>\n",
              "      <td>0.617039</td>\n",
              "      <td>0.633659</td>\n",
              "      <td>1.000000</td>\n",
              "    </tr>\n",
              "  </tbody>\n",
              "</table>\n",
              "</div>\n",
              "      <button class=\"colab-df-convert\" onclick=\"convertToInteractive('df-e81eb756-6385-4f57-a481-a79684bc7bc3')\"\n",
              "              title=\"Convert this dataframe to an interactive table.\"\n",
              "              style=\"display:none;\">\n",
              "        \n",
              "  <svg xmlns=\"http://www.w3.org/2000/svg\" height=\"24px\"viewBox=\"0 0 24 24\"\n",
              "       width=\"24px\">\n",
              "    <path d=\"M0 0h24v24H0V0z\" fill=\"none\"/>\n",
              "    <path d=\"M18.56 5.44l.94 2.06.94-2.06 2.06-.94-2.06-.94-.94-2.06-.94 2.06-2.06.94zm-11 1L8.5 8.5l.94-2.06 2.06-.94-2.06-.94L8.5 2.5l-.94 2.06-2.06.94zm10 10l.94 2.06.94-2.06 2.06-.94-2.06-.94-.94-2.06-.94 2.06-2.06.94z\"/><path d=\"M17.41 7.96l-1.37-1.37c-.4-.4-.92-.59-1.43-.59-.52 0-1.04.2-1.43.59L10.3 9.45l-7.72 7.72c-.78.78-.78 2.05 0 2.83L4 21.41c.39.39.9.59 1.41.59.51 0 1.02-.2 1.41-.59l7.78-7.78 2.81-2.81c.8-.78.8-2.07 0-2.86zM5.41 20L4 18.59l7.72-7.72 1.47 1.35L5.41 20z\"/>\n",
              "  </svg>\n",
              "      </button>\n",
              "      \n",
              "  <style>\n",
              "    .colab-df-container {\n",
              "      display:flex;\n",
              "      flex-wrap:wrap;\n",
              "      gap: 12px;\n",
              "    }\n",
              "\n",
              "    .colab-df-convert {\n",
              "      background-color: #E8F0FE;\n",
              "      border: none;\n",
              "      border-radius: 50%;\n",
              "      cursor: pointer;\n",
              "      display: none;\n",
              "      fill: #1967D2;\n",
              "      height: 32px;\n",
              "      padding: 0 0 0 0;\n",
              "      width: 32px;\n",
              "    }\n",
              "\n",
              "    .colab-df-convert:hover {\n",
              "      background-color: #E2EBFA;\n",
              "      box-shadow: 0px 1px 2px rgba(60, 64, 67, 0.3), 0px 1px 3px 1px rgba(60, 64, 67, 0.15);\n",
              "      fill: #174EA6;\n",
              "    }\n",
              "\n",
              "    [theme=dark] .colab-df-convert {\n",
              "      background-color: #3B4455;\n",
              "      fill: #D2E3FC;\n",
              "    }\n",
              "\n",
              "    [theme=dark] .colab-df-convert:hover {\n",
              "      background-color: #434B5C;\n",
              "      box-shadow: 0px 1px 3px 1px rgba(0, 0, 0, 0.15);\n",
              "      filter: drop-shadow(0px 1px 2px rgba(0, 0, 0, 0.3));\n",
              "      fill: #FFFFFF;\n",
              "    }\n",
              "  </style>\n",
              "\n",
              "      <script>\n",
              "        const buttonEl =\n",
              "          document.querySelector('#df-e81eb756-6385-4f57-a481-a79684bc7bc3 button.colab-df-convert');\n",
              "        buttonEl.style.display =\n",
              "          google.colab.kernel.accessAllowed ? 'block' : 'none';\n",
              "\n",
              "        async function convertToInteractive(key) {\n",
              "          const element = document.querySelector('#df-e81eb756-6385-4f57-a481-a79684bc7bc3');\n",
              "          const dataTable =\n",
              "            await google.colab.kernel.invokeFunction('convertToInteractive',\n",
              "                                                     [key], {});\n",
              "          if (!dataTable) return;\n",
              "\n",
              "          const docLinkHtml = 'Like what you see? Visit the ' +\n",
              "            '<a target=\"_blank\" href=https://colab.research.google.com/notebooks/data_table.ipynb>data table notebook</a>'\n",
              "            + ' to learn more about interactive tables.';\n",
              "          element.innerHTML = '';\n",
              "          dataTable['output_type'] = 'display_data';\n",
              "          await google.colab.output.renderOutput(dataTable, element);\n",
              "          const docLink = document.createElement('div');\n",
              "          docLink.innerHTML = docLinkHtml;\n",
              "          element.appendChild(docLink);\n",
              "        }\n",
              "      </script>\n",
              "    </div>\n",
              "  </div>\n",
              "  "
            ]
          },
          "metadata": {},
          "execution_count": 34
        }
      ]
    },
    {
      "cell_type": "code",
      "source": [
        "plt.figure(figsize=(12,8))\n",
        "\n",
        "sns.set_theme(context='notebook', style='darkgrid', palette=\"rainbow\", font='sans-serif', font_scale=1)\n",
        "mask = np.triu(np.ones_like(df.corr(), dtype=bool))\n",
        "ax = sns.heatmap(data=df.corr(method='pearson'), cmap='coolwarm', annot=True, vmin=-1, vmax=1, mask=mask)\n",
        "\n",
        "plt.show()"
      ],
      "metadata": {
        "colab": {
          "base_uri": "https://localhost:8080/",
          "height": 659
        },
        "id": "tVabdD6qYqG8",
        "outputId": "53f3e6e2-14ab-4e5f-eaf7-eb7be394f79e"
      },
      "execution_count": null,
      "outputs": [
        {
          "output_type": "display_data",
          "data": {
            "text/plain": [
              "<Figure size 864x576 with 2 Axes>"
            ],
            "image/png": "[encoded data removed]"
          },
          "metadata": {
            "needs_background": "light"
          }
        }
      ]
    },
    {
      "cell_type": "code",
      "source": [
        "plt.figure(figsize=(10,10))\n",
        "\n",
        "sns.set_theme(context='notebook', style='darkgrid', palette=\"rainbow\", font='sans-serif', font_scale=1)\n",
        "\n",
        "ax = sns.pairplot(data=df)\n",
        "\n",
        "plt.show()"
      ],
      "metadata": {
        "colab": {
          "base_uri": "https://localhost:8080/",
          "height": 1000
        },
        "id": "W_p4qIuPvMWt",
        "outputId": "b4c601d9-6081-413a-a46e-d6b6e783e563"
      },
      "execution_count": null,
      "outputs": [
        {
          "output_type": "display_data",
          "data": {
            "text/plain": [
              "<Figure size 720x720 with 0 Axes>"
            ]
          },
          "metadata": {}
        },
        {
          "output_type": "display_data",
          "data": {
            "text/plain": [
              "<Figure size 1260x1260 with 56 Axes>"
            ],
            "image/png": "[encoded data removed]"
          },
          "metadata": {}
        }
      ]
    },
    {
      "cell_type": "code",
      "source": [
        "plt.figure(figsize=(36,10))\n",
        "\n",
        "sns.set_theme(context='notebook', style='darkgrid', palette=\"Set3\", font='sans-serif', font_scale=1)\n",
        "\n",
        "plt.subplot(1, 7, 1)\n",
        "ax1 = sns.boxplot(y=\"Distância\",data=df)\n",
        "plt.subplot(1, 7, 2)\n",
        "ax2 = sns.boxplot(y=\"Tempo_new\",data=df)\n",
        "plt.subplot(1, 7, 3)\n",
        "ax3 = sns.boxplot(y=\"Ritmo médio_new\",data=df)\n",
        "plt.subplot(1, 7, 4)\n",
        "ax4 = sns.boxplot(y=\"FC Média\",data=df)\n",
        "plt.subplot(1, 7, 5)\n",
        "ax4 = sns.boxplot(y=\"Training_Zone\",data=df)\n",
        "plt.subplot(1, 7, 6)\n",
        "ax4 = sns.boxplot(y=\"Cadência de corrida média\",data=df)\n",
        "plt.subplot(1, 7, 7)\n",
        "ax4 = sns.boxplot(y=\"Comprimento médio da passada\",data=df)\n",
        "\n",
        "plt.show()"
      ],
      "metadata": {
        "colab": {
          "base_uri": "https://localhost:8080/",
          "height": 501
        },
        "id": "K7sXTquYAumc",
        "outputId": "e5384d53-4192-4f9c-ad0d-1570eb6d4b74"
      },
      "execution_count": null,
      "outputs": [
        {
          "output_type": "display_data",
          "data": {
            "text/plain": [
              "<Figure size 2592x720 with 7 Axes>"
            ],
            "image/png": "[encoded data removed]"
          },
          "metadata": {}
        }
      ]
    },
    {
      "cell_type": "code",
      "source": [
        "plt.figure(figsize=(30,10))\n",
        "\n",
        "sns.set_theme(context='notebook', style='darkgrid', palette=\"rainbow\", font='sans-serif', font_scale=1)\n",
        "\n",
        "plt.subplot(1, 3, 1)\n",
        "ax1 = sns.histplot(x=\"Training_Zone\",data=df, bins=5, kde=True)\n",
        "ax1.set_xlim(0,6)\n",
        "\n",
        "plt.subplot(1, 3, 2)\n",
        "ax2 = sns.scatterplot(x=\"Training_Zone\", y=\"Distância\", data=df, s=200)\n",
        "\n",
        "plt.subplot(1, 3, 3)\n",
        "ax3 = sns.scatterplot(x=\"Training_Zone\", y=\"Tempo_new\", data=df, s=200)\n",
        "\n",
        "\n",
        "plt.show()"
      ],
      "metadata": {
        "colab": {
          "base_uri": "https://localhost:8080/",
          "height": 611
        },
        "id": "-EA-lMd6dIQV",
        "outputId": "56c88ade-ade6-4adf-f6a1-3333b95e9157"
      },
      "execution_count": null,
      "outputs": [
        {
          "output_type": "display_data",
          "data": {
            "text/plain": [
              "<Figure size 2160x720 with 3 Axes>"
            ],
            "image/png": "[encoded data removed]"
          },
          "metadata": {}
        }
      ]
    },
    {
      "cell_type": "code",
      "source": [
        "plt.figure(figsize=(10,10))\n",
        "\n",
        "sns.set_theme(context='notebook', style='darkgrid', palette=\"Set3\", font='sans-serif', font_scale=1)\n",
        "day_order = ['Sunday','Monday','Tuesday','Wednesday','Thursday','Friday','Saturday'] \n",
        "\n",
        "ax = sns.countplot(x=\"Day_of_Week\",data=df, order=day_order)\n",
        "ax.set_xlabel(\"Day of Week\")\n",
        "ax.set_ylabel(\"Total Training Routine\")\n",
        "ax.set_title(\"Training Distruibution per Day\")\n",
        "\n",
        "plt.show()"
      ],
      "metadata": {
        "colab": {
          "base_uri": "https://localhost:8080/",
          "height": 627
        },
        "id": "rjUM6yOZgGkB",
        "outputId": "ea113134-7319-40cc-fac5-e95414396c78"
      },
      "execution_count": null,
      "outputs": [
        {
          "output_type": "display_data",
          "data": {
            "text/plain": [
              "<Figure size 720x720 with 1 Axes>"
            ],
            "image/png": "[encoded data removed]"
          },
          "metadata": {}
        }
      ]
    },
    {
      "cell_type": "markdown",
      "source": [
        "Linear correlations"
      ],
      "metadata": {
        "id": "V-g78tsGvneh"
      }
    },
    {
      "cell_type": "code",
      "source": [
        "plt.figure(figsize=(10,10))\n",
        "\n",
        "sns.set_theme(context='notebook', style='darkgrid', palette=\"rainbow\", font='sans-serif', font_scale=1)\n",
        "\n",
        "az1 = sns.lmplot(x=\"Distância\",y=\"Tempo_new\", data=df)\n",
        "\n",
        "plt.show()"
      ],
      "metadata": {
        "colab": {
          "base_uri": "https://localhost:8080/",
          "height": 382
        },
        "id": "8hhuP4Z87ECH",
        "outputId": "3dc7bbb7-9fc0-4c08-ded5-40637cdb7147"
      },
      "execution_count": null,
      "outputs": [
        {
          "output_type": "display_data",
          "data": {
            "text/plain": [
              "<Figure size 720x720 with 0 Axes>"
            ]
          },
          "metadata": {}
        },
        {
          "output_type": "display_data",
          "data": {
            "text/plain": [
              "<Figure size 360x360 with 1 Axes>"
            ],
            "image/png": "[encoded data removed]"
          },
          "metadata": {}
        }
      ]
    },
    {
      "cell_type": "code",
      "source": [
        "az2 = sns.lmplot(x=\"Comprimento médio da passada\", y=\"Ritmo médio_new\", data=df)"
      ],
      "metadata": {
        "colab": {
          "base_uri": "https://localhost:8080/",
          "height": 365
        },
        "id": "DIiRiz9Uz-_e",
        "outputId": "cf29f90e-dd06-4268-967d-049398bdf14b"
      },
      "execution_count": null,
      "outputs": [
        {
          "output_type": "display_data",
          "data": {
            "text/plain": [
              "<Figure size 360x360 with 1 Axes>"
            ],
            "image/png": "[encoded data removed]"
          },
          "metadata": {}
        }
      ]
    },
    {
      "cell_type": "code",
      "source": [
        "az3 = sns.lmplot(x=\"Cadência de corrida média\", y=\"FC Média\", data=df)\n"
      ],
      "metadata": {
        "colab": {
          "base_uri": "https://localhost:8080/",
          "height": 365
        },
        "id": "fbxH5mO60Bvz",
        "outputId": "97569254-4675-44fa-b2b6-1f42085e168e"
      },
      "execution_count": null,
      "outputs": [
        {
          "output_type": "display_data",
          "data": {
            "text/plain": [
              "<Figure size 360x360 with 1 Axes>"
            ],
            "image/png": "[encoded data removed]"
          },
          "metadata": {}
        }
      ]
    },
    {
      "cell_type": "markdown",
      "source": [
        "## **Conclusion**"
      ],
      "metadata": {
        "id": "hipYbvxFy2yf"
      }
    }
  ]
}